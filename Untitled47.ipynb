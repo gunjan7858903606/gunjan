{
  "nbformat": 4,
  "nbformat_minor": 0,
  "metadata": {
    "colab": {
      "provenance": [],
      "authorship_tag": "ABX9TyNgu2QN3nG+ic9wpp+L3CeE",
      "include_colab_link": true
    },
    "kernelspec": {
      "name": "python3",
      "display_name": "Python 3"
    },
    "language_info": {
      "name": "python"
    }
  },
  "cells": [
    {
      "cell_type": "markdown",
      "metadata": {
        "id": "view-in-github",
        "colab_type": "text"
      },
      "source": [
        "<a href=\"https://colab.research.google.com/github/gunjan7858903606/gunjan/blob/main/Untitled47.ipynb\" target=\"_parent\"><img src=\"https://colab.research.google.com/assets/colab-badge.svg\" alt=\"Open In Colab\"/></a>"
      ]
    },
    {
      "cell_type": "code",
      "execution_count": 1,
      "metadata": {
        "colab": {
          "base_uri": "https://localhost:8080/"
        },
        "id": "eYHhPJLd03pX",
        "outputId": "41ab97b9-7a2e-4eeb-fc7a-7dbc63dbf628"
      },
      "outputs": [
        {
          "output_type": "stream",
          "name": "stdout",
          "text": [
            "✔️ Libraries imported successfully!\n"
          ]
        }
      ],
      "source": [
        "import numpy as np\n",
        "import pandas as pd\n",
        "import matplotlib.pyplot as plt\n",
        "import seaborn as sns\n",
        "from sklearn.metrics import confusion_matrix\n",
        "from wordcloud import WordCloud\n",
        "import re\n",
        "import nltk\n",
        "from nltk.corpus import stopwords\n",
        "from nltk.stem import PorterStemmer\n",
        "from nltk.tokenize import word_tokenize\n",
        "\n",
        "from sklearn.neighbors import KNeighborsClassifier\n",
        "from sklearn.feature_extraction.text import CountVectorizer\n",
        "from sklearn.model_selection import train_test_split\n",
        "from sklearn.model_selection import GridSearchCV\n",
        "from sklearn.tree import DecisionTreeClassifier\n",
        "from sklearn.ensemble import RandomForestClassifier\n",
        "print('✔️ Libraries imported successfully!')"
      ]
    },
    {
      "cell_type": "code",
      "source": [
        "import nltk\n",
        "nltk.download(\"popular\")"
      ],
      "metadata": {
        "colab": {
          "base_uri": "https://localhost:8080/"
        },
        "id": "KqFpZEVB4DBJ",
        "outputId": "0768b046-3070-4bee-ba69-71038cb630de"
      },
      "execution_count": 2,
      "outputs": [
        {
          "output_type": "stream",
          "name": "stderr",
          "text": [
            "[nltk_data] Downloading collection 'popular'\n",
            "[nltk_data]    | \n",
            "[nltk_data]    | Downloading package cmudict to /root/nltk_data...\n",
            "[nltk_data]    |   Unzipping corpora/cmudict.zip.\n",
            "[nltk_data]    | Downloading package gazetteers to /root/nltk_data...\n",
            "[nltk_data]    |   Unzipping corpora/gazetteers.zip.\n",
            "[nltk_data]    | Downloading package genesis to /root/nltk_data...\n",
            "[nltk_data]    |   Unzipping corpora/genesis.zip.\n",
            "[nltk_data]    | Downloading package gutenberg to /root/nltk_data...\n",
            "[nltk_data]    |   Unzipping corpora/gutenberg.zip.\n",
            "[nltk_data]    | Downloading package inaugural to /root/nltk_data...\n",
            "[nltk_data]    |   Unzipping corpora/inaugural.zip.\n",
            "[nltk_data]    | Downloading package movie_reviews to\n",
            "[nltk_data]    |     /root/nltk_data...\n",
            "[nltk_data]    |   Unzipping corpora/movie_reviews.zip.\n",
            "[nltk_data]    | Downloading package names to /root/nltk_data...\n",
            "[nltk_data]    |   Unzipping corpora/names.zip.\n",
            "[nltk_data]    | Downloading package shakespeare to /root/nltk_data...\n",
            "[nltk_data]    |   Unzipping corpora/shakespeare.zip.\n",
            "[nltk_data]    | Downloading package stopwords to /root/nltk_data...\n",
            "[nltk_data]    |   Unzipping corpora/stopwords.zip.\n",
            "[nltk_data]    | Downloading package treebank to /root/nltk_data...\n",
            "[nltk_data]    |   Unzipping corpora/treebank.zip.\n",
            "[nltk_data]    | Downloading package twitter_samples to\n",
            "[nltk_data]    |     /root/nltk_data...\n",
            "[nltk_data]    |   Unzipping corpora/twitter_samples.zip.\n",
            "[nltk_data]    | Downloading package omw to /root/nltk_data...\n",
            "[nltk_data]    | Downloading package omw-1.4 to /root/nltk_data...\n",
            "[nltk_data]    | Downloading package wordnet to /root/nltk_data...\n",
            "[nltk_data]    | Downloading package wordnet2021 to /root/nltk_data...\n",
            "[nltk_data]    | Downloading package wordnet31 to /root/nltk_data...\n",
            "[nltk_data]    | Downloading package wordnet_ic to /root/nltk_data...\n",
            "[nltk_data]    |   Unzipping corpora/wordnet_ic.zip.\n",
            "[nltk_data]    | Downloading package words to /root/nltk_data...\n",
            "[nltk_data]    |   Unzipping corpora/words.zip.\n",
            "[nltk_data]    | Downloading package maxent_ne_chunker to\n",
            "[nltk_data]    |     /root/nltk_data...\n",
            "[nltk_data]    |   Unzipping chunkers/maxent_ne_chunker.zip.\n",
            "[nltk_data]    | Downloading package punkt to /root/nltk_data...\n",
            "[nltk_data]    |   Unzipping tokenizers/punkt.zip.\n",
            "[nltk_data]    | Downloading package snowball_data to\n",
            "[nltk_data]    |     /root/nltk_data...\n",
            "[nltk_data]    | Downloading package averaged_perceptron_tagger to\n",
            "[nltk_data]    |     /root/nltk_data...\n",
            "[nltk_data]    |   Unzipping taggers/averaged_perceptron_tagger.zip.\n",
            "[nltk_data]    | \n",
            "[nltk_data]  Done downloading collection popular\n"
          ]
        },
        {
          "output_type": "execute_result",
          "data": {
            "text/plain": [
              "True"
            ]
          },
          "metadata": {},
          "execution_count": 2
        }
      ]
    },
    {
      "cell_type": "code",
      "source": [
        "!unzip -u \"/content/quora_question_df.csv\""
      ],
      "metadata": {
        "colab": {
          "base_uri": "https://localhost:8080/"
        },
        "id": "jjytuJio4Q_0",
        "outputId": "a6d1f8dd-f2fc-40ca-e71d-685b4b1680e3"
      },
      "execution_count": 3,
      "outputs": [
        {
          "output_type": "stream",
          "name": "stdout",
          "text": [
            "Archive:  /content/quora_question_df.csv\n",
            "  End-of-central-directory signature not found.  Either this file is not\n",
            "  a zipfile, or it constitutes one disk of a multi-part archive.  In the\n",
            "  latter case the central directory and zipfile comment will be found on\n",
            "  the last disk(s) of this archive.\n",
            "unzip:  cannot find zipfile directory in one of /content/quora_question_df.csv or\n",
            "        /content/quora_question_df.csv.zip, and cannot find /content/quora_question_df.csv.ZIP, period.\n"
          ]
        }
      ]
    },
    {
      "cell_type": "code",
      "source": [
        "df = pd.read_csv(\"/content/quora_question_df.csv\")"
      ],
      "metadata": {
        "id": "bybHbRmQ5HpR"
      },
      "execution_count": 4,
      "outputs": []
    },
    {
      "cell_type": "code",
      "source": [
        "df.head"
      ],
      "metadata": {
        "colab": {
          "base_uri": "https://localhost:8080/"
        },
        "id": "KouML_CH5UqP",
        "outputId": "dbeb4a86-c175-47a0-8d2d-d07242586dbc"
      },
      "execution_count": 5,
      "outputs": [
        {
          "output_type": "execute_result",
          "data": {
            "text/plain": [
              "<bound method NDFrame.head of                         qid  \\\n",
              "0      b2f1a96eb735a4e36ce7   \n",
              "1      f3682de573aa537da305   \n",
              "2      6272cca485cf66a6771c   \n",
              "3      7c03edcc4e240dec9c69   \n",
              "4      3a37b627fd71c5302a12   \n",
              "...                     ...   \n",
              "59995  e150fde70b65a8487a3c   \n",
              "59996  d4850cc437b3d0105408   \n",
              "59997  12a08a0dd742eed811d9   \n",
              "59998  769ea9ce327d15d77de6   \n",
              "59999  5db9fe4f3af5d25d2adc   \n",
              "\n",
              "                                           question_text  target  \n",
              "0      Is Islam a weak religion because of economical...       1  \n",
              "1      In the mind of most Democrats does an American...       1  \n",
              "2      Our lord is an asshole! It is a strong word, b...       1  \n",
              "3      Why do men who use the restrooms at QuikTrip a...       1  \n",
              "4      Why are North Americans so much richer than Eu...       1  \n",
              "...                                                  ...     ...  \n",
              "59995              What went wrong with Rocket Internet?       0  \n",
              "59996           Why is being \"dead inside\" frowned upon?       0  \n",
              "59997                  Is Mathematics necessary in life?       0  \n",
              "59998                     Can you smell carbon monoxide?       0  \n",
              "59999  What shall be my strategy for SSC CGL I I have...       0  \n",
              "\n",
              "[60000 rows x 3 columns]>"
            ]
          },
          "metadata": {},
          "execution_count": 5
        }
      ]
    },
    {
      "cell_type": "code",
      "source": [
        "df.info()"
      ],
      "metadata": {
        "colab": {
          "base_uri": "https://localhost:8080/"
        },
        "id": "SgsSidiP5iFa",
        "outputId": "a1611860-e00b-4335-82ae-6b080559e268"
      },
      "execution_count": 6,
      "outputs": [
        {
          "output_type": "stream",
          "name": "stdout",
          "text": [
            "<class 'pandas.core.frame.DataFrame'>\n",
            "RangeIndex: 60000 entries, 0 to 59999\n",
            "Data columns (total 3 columns):\n",
            " #   Column         Non-Null Count  Dtype \n",
            "---  ------         --------------  ----- \n",
            " 0   qid            60000 non-null  object\n",
            " 1   question_text  60000 non-null  object\n",
            " 2   target         60000 non-null  int64 \n",
            "dtypes: int64(1), object(2)\n",
            "memory usage: 1.4+ MB\n"
          ]
        }
      ]
    },
    {
      "cell_type": "code",
      "source": [
        "df.tail()"
      ],
      "metadata": {
        "colab": {
          "base_uri": "https://localhost:8080/",
          "height": 206
        },
        "id": "UfH-7PIc52CK",
        "outputId": "431abfcc-5bbd-4366-ca53-8e2b1746ef1b"
      },
      "execution_count": 9,
      "outputs": [
        {
          "output_type": "execute_result",
          "data": {
            "text/plain": [
              "                        qid  \\\n",
              "59995  e150fde70b65a8487a3c   \n",
              "59996  d4850cc437b3d0105408   \n",
              "59997  12a08a0dd742eed811d9   \n",
              "59998  769ea9ce327d15d77de6   \n",
              "59999  5db9fe4f3af5d25d2adc   \n",
              "\n",
              "                                           question_text  target  \n",
              "59995              What went wrong with Rocket Internet?       0  \n",
              "59996           Why is being \"dead inside\" frowned upon?       0  \n",
              "59997                  Is Mathematics necessary in life?       0  \n",
              "59998                     Can you smell carbon monoxide?       0  \n",
              "59999  What shall be my strategy for SSC CGL I I have...       0  "
            ],
            "text/html": [
              "\n",
              "  <div id=\"df-2d014ab2-26bb-47ba-93cd-61681b8ff40a\">\n",
              "    <div class=\"colab-df-container\">\n",
              "      <div>\n",
              "<style scoped>\n",
              "    .dataframe tbody tr th:only-of-type {\n",
              "        vertical-align: middle;\n",
              "    }\n",
              "\n",
              "    .dataframe tbody tr th {\n",
              "        vertical-align: top;\n",
              "    }\n",
              "\n",
              "    .dataframe thead th {\n",
              "        text-align: right;\n",
              "    }\n",
              "</style>\n",
              "<table border=\"1\" class=\"dataframe\">\n",
              "  <thead>\n",
              "    <tr style=\"text-align: right;\">\n",
              "      <th></th>\n",
              "      <th>qid</th>\n",
              "      <th>question_text</th>\n",
              "      <th>target</th>\n",
              "    </tr>\n",
              "  </thead>\n",
              "  <tbody>\n",
              "    <tr>\n",
              "      <th>59995</th>\n",
              "      <td>e150fde70b65a8487a3c</td>\n",
              "      <td>What went wrong with Rocket Internet?</td>\n",
              "      <td>0</td>\n",
              "    </tr>\n",
              "    <tr>\n",
              "      <th>59996</th>\n",
              "      <td>d4850cc437b3d0105408</td>\n",
              "      <td>Why is being \"dead inside\" frowned upon?</td>\n",
              "      <td>0</td>\n",
              "    </tr>\n",
              "    <tr>\n",
              "      <th>59997</th>\n",
              "      <td>12a08a0dd742eed811d9</td>\n",
              "      <td>Is Mathematics necessary in life?</td>\n",
              "      <td>0</td>\n",
              "    </tr>\n",
              "    <tr>\n",
              "      <th>59998</th>\n",
              "      <td>769ea9ce327d15d77de6</td>\n",
              "      <td>Can you smell carbon monoxide?</td>\n",
              "      <td>0</td>\n",
              "    </tr>\n",
              "    <tr>\n",
              "      <th>59999</th>\n",
              "      <td>5db9fe4f3af5d25d2adc</td>\n",
              "      <td>What shall be my strategy for SSC CGL I I have...</td>\n",
              "      <td>0</td>\n",
              "    </tr>\n",
              "  </tbody>\n",
              "</table>\n",
              "</div>\n",
              "      <button class=\"colab-df-convert\" onclick=\"convertToInteractive('df-2d014ab2-26bb-47ba-93cd-61681b8ff40a')\"\n",
              "              title=\"Convert this dataframe to an interactive table.\"\n",
              "              style=\"display:none;\">\n",
              "        \n",
              "  <svg xmlns=\"http://www.w3.org/2000/svg\" height=\"24px\"viewBox=\"0 0 24 24\"\n",
              "       width=\"24px\">\n",
              "    <path d=\"M0 0h24v24H0V0z\" fill=\"none\"/>\n",
              "    <path d=\"M18.56 5.44l.94 2.06.94-2.06 2.06-.94-2.06-.94-.94-2.06-.94 2.06-2.06.94zm-11 1L8.5 8.5l.94-2.06 2.06-.94-2.06-.94L8.5 2.5l-.94 2.06-2.06.94zm10 10l.94 2.06.94-2.06 2.06-.94-2.06-.94-.94-2.06-.94 2.06-2.06.94z\"/><path d=\"M17.41 7.96l-1.37-1.37c-.4-.4-.92-.59-1.43-.59-.52 0-1.04.2-1.43.59L10.3 9.45l-7.72 7.72c-.78.78-.78 2.05 0 2.83L4 21.41c.39.39.9.59 1.41.59.51 0 1.02-.2 1.41-.59l7.78-7.78 2.81-2.81c.8-.78.8-2.07 0-2.86zM5.41 20L4 18.59l7.72-7.72 1.47 1.35L5.41 20z\"/>\n",
              "  </svg>\n",
              "      </button>\n",
              "      \n",
              "  <style>\n",
              "    .colab-df-container {\n",
              "      display:flex;\n",
              "      flex-wrap:wrap;\n",
              "      gap: 12px;\n",
              "    }\n",
              "\n",
              "    .colab-df-convert {\n",
              "      background-color: #E8F0FE;\n",
              "      border: none;\n",
              "      border-radius: 50%;\n",
              "      cursor: pointer;\n",
              "      display: none;\n",
              "      fill: #1967D2;\n",
              "      height: 32px;\n",
              "      padding: 0 0 0 0;\n",
              "      width: 32px;\n",
              "    }\n",
              "\n",
              "    .colab-df-convert:hover {\n",
              "      background-color: #E2EBFA;\n",
              "      box-shadow: 0px 1px 2px rgba(60, 64, 67, 0.3), 0px 1px 3px 1px rgba(60, 64, 67, 0.15);\n",
              "      fill: #174EA6;\n",
              "    }\n",
              "\n",
              "    [theme=dark] .colab-df-convert {\n",
              "      background-color: #3B4455;\n",
              "      fill: #D2E3FC;\n",
              "    }\n",
              "\n",
              "    [theme=dark] .colab-df-convert:hover {\n",
              "      background-color: #434B5C;\n",
              "      box-shadow: 0px 1px 3px 1px rgba(0, 0, 0, 0.15);\n",
              "      filter: drop-shadow(0px 1px 2px rgba(0, 0, 0, 0.3));\n",
              "      fill: #FFFFFF;\n",
              "    }\n",
              "  </style>\n",
              "\n",
              "      <script>\n",
              "        const buttonEl =\n",
              "          document.querySelector('#df-2d014ab2-26bb-47ba-93cd-61681b8ff40a button.colab-df-convert');\n",
              "        buttonEl.style.display =\n",
              "          google.colab.kernel.accessAllowed ? 'block' : 'none';\n",
              "\n",
              "        async function convertToInteractive(key) {\n",
              "          const element = document.querySelector('#df-2d014ab2-26bb-47ba-93cd-61681b8ff40a');\n",
              "          const dataTable =\n",
              "            await google.colab.kernel.invokeFunction('convertToInteractive',\n",
              "                                                     [key], {});\n",
              "          if (!dataTable) return;\n",
              "\n",
              "          const docLinkHtml = 'Like what you see? Visit the ' +\n",
              "            '<a target=\"_blank\" href=https://colab.research.google.com/notebooks/data_table.ipynb>data table notebook</a>'\n",
              "            + ' to learn more about interactive tables.';\n",
              "          element.innerHTML = '';\n",
              "          dataTable['output_type'] = 'display_data';\n",
              "          await google.colab.output.renderOutput(dataTable, element);\n",
              "          const docLink = document.createElement('div');\n",
              "          docLink.innerHTML = docLinkHtml;\n",
              "          element.appendChild(docLink);\n",
              "        }\n",
              "      </script>\n",
              "    </div>\n",
              "  </div>\n",
              "  "
            ]
          },
          "metadata": {},
          "execution_count": 9
        }
      ]
    },
    {
      "cell_type": "code",
      "source": [
        "df.question_text.sample(10)"
      ],
      "metadata": {
        "colab": {
          "base_uri": "https://localhost:8080/"
        },
        "id": "15H5l52o6u-O",
        "outputId": "af149bd9-99f7-41ce-82ce-b0940b0c2745"
      },
      "execution_count": 12,
      "outputs": [
        {
          "output_type": "execute_result",
          "data": {
            "text/plain": [
              "20396    How can I find the best document translation s...\n",
              "14516    What were the different approaches used in B2B...\n",
              "5636     Why does Pakistan hate Israel but loves China ...\n",
              "34530    What are the real time tricks that can help me...\n",
              "59484    What is the qualification for a job at SASE DRDO?\n",
              "24208    What is the best Korean Fried Chicken in Kuala...\n",
              "58042     Is this question complicated enough to be asked?\n",
              "20463                 Is working out 4 days a week enough?\n",
              "12767        Is adding turmeric to milk a chemical change?\n",
              "12535                What do you hate seeing in an answer?\n",
              "Name: question_text, dtype: object"
            ]
          },
          "metadata": {},
          "execution_count": 12
        }
      ]
    },
    {
      "cell_type": "code",
      "source": [
        "# remove punctuations\n",
        "import string\n",
        "string.punctuation\n"
      ],
      "metadata": {
        "colab": {
          "base_uri": "https://localhost:8080/",
          "height": 35
        },
        "id": "azbT4ciH9P2a",
        "outputId": "0a10ee6c-d4a7-4208-d838-50df445859a2"
      },
      "execution_count": 13,
      "outputs": [
        {
          "output_type": "execute_result",
          "data": {
            "text/plain": [
              "'!\"#$%&\\'()*+,-./:;<=>?@[\\\\]^_`{|}~'"
            ],
            "application/vnd.google.colaboratory.intrinsic+json": {
              "type": "string"
            }
          },
          "metadata": {},
          "execution_count": 13
        }
      ]
    },
    {
      "cell_type": "code",
      "source": [
        "q = '''Why is_being \"dead-inside\" frowned @ upon?'''\n",
        "q"
      ],
      "metadata": {
        "colab": {
          "base_uri": "https://localhost:8080/",
          "height": 35
        },
        "id": "L1AZ0QKl9Wfe",
        "outputId": "602cea0e-2a8f-4c68-da2e-89cea76c2302"
      },
      "execution_count": 14,
      "outputs": [
        {
          "output_type": "execute_result",
          "data": {
            "text/plain": [
              "'Why is_being \"dead-inside\" frowned @ upon?'"
            ],
            "application/vnd.google.colaboratory.intrinsic+json": {
              "type": "string"
            }
          },
          "metadata": {},
          "execution_count": 14
        }
      ]
    },
    {
      "cell_type": "code",
      "source": [
        "def rem_punc(q):\n",
        "  for chr in q:\n",
        "    if chr in string.punctuation:\n",
        "      q = q.replace(chr, \"\")\n",
        "    elif chr in [\"0\",\"1\",\"2\",\"3\",\"4\",\"5\",\"6\",\"7\",\"8\",\"9\"]:# \"0123456789\"\n",
        "      q = q.replace(chr, \"\")\n",
        "  q = q.lower()\n",
        "  return q"
      ],
      "metadata": {
        "id": "nnI90Kw8AD_2"
      },
      "execution_count": 17,
      "outputs": []
    },
    {
      "cell_type": "code",
      "source": [
        "df[\"questions_rem_punc\"] = df[\"question_text\"].apply(lambda x: rem_punc(x))\n",
        "df.tail()"
      ],
      "metadata": {
        "colab": {
          "base_uri": "https://localhost:8080/",
          "height": 206
        },
        "id": "KMveHCWdAJvK",
        "outputId": "e8a5b298-bea4-4cc7-e26f-117b55a979f6"
      },
      "execution_count": 18,
      "outputs": [
        {
          "output_type": "execute_result",
          "data": {
            "text/plain": [
              "                        qid  \\\n",
              "59995  e150fde70b65a8487a3c   \n",
              "59996  d4850cc437b3d0105408   \n",
              "59997  12a08a0dd742eed811d9   \n",
              "59998  769ea9ce327d15d77de6   \n",
              "59999  5db9fe4f3af5d25d2adc   \n",
              "\n",
              "                                           question_text  target  \\\n",
              "59995              What went wrong with Rocket Internet?       0   \n",
              "59996           Why is being \"dead inside\" frowned upon?       0   \n",
              "59997                  Is Mathematics necessary in life?       0   \n",
              "59998                     Can you smell carbon monoxide?       0   \n",
              "59999  What shall be my strategy for SSC CGL I I have...       0   \n",
              "\n",
              "                                      questions_rem_punc  \n",
              "59995               what went wrong with rocket internet  \n",
              "59996              why is being dead inside frowned upon  \n",
              "59997                   is mathematics necessary in life  \n",
              "59998                      can you smell carbon monoxide  \n",
              "59999  what shall be my strategy for ssc cgl i i have...  "
            ],
            "text/html": [
              "\n",
              "  <div id=\"df-1caf5ce5-b0cf-4dad-b137-be1d58165b59\">\n",
              "    <div class=\"colab-df-container\">\n",
              "      <div>\n",
              "<style scoped>\n",
              "    .dataframe tbody tr th:only-of-type {\n",
              "        vertical-align: middle;\n",
              "    }\n",
              "\n",
              "    .dataframe tbody tr th {\n",
              "        vertical-align: top;\n",
              "    }\n",
              "\n",
              "    .dataframe thead th {\n",
              "        text-align: right;\n",
              "    }\n",
              "</style>\n",
              "<table border=\"1\" class=\"dataframe\">\n",
              "  <thead>\n",
              "    <tr style=\"text-align: right;\">\n",
              "      <th></th>\n",
              "      <th>qid</th>\n",
              "      <th>question_text</th>\n",
              "      <th>target</th>\n",
              "      <th>questions_rem_punc</th>\n",
              "    </tr>\n",
              "  </thead>\n",
              "  <tbody>\n",
              "    <tr>\n",
              "      <th>59995</th>\n",
              "      <td>e150fde70b65a8487a3c</td>\n",
              "      <td>What went wrong with Rocket Internet?</td>\n",
              "      <td>0</td>\n",
              "      <td>what went wrong with rocket internet</td>\n",
              "    </tr>\n",
              "    <tr>\n",
              "      <th>59996</th>\n",
              "      <td>d4850cc437b3d0105408</td>\n",
              "      <td>Why is being \"dead inside\" frowned upon?</td>\n",
              "      <td>0</td>\n",
              "      <td>why is being dead inside frowned upon</td>\n",
              "    </tr>\n",
              "    <tr>\n",
              "      <th>59997</th>\n",
              "      <td>12a08a0dd742eed811d9</td>\n",
              "      <td>Is Mathematics necessary in life?</td>\n",
              "      <td>0</td>\n",
              "      <td>is mathematics necessary in life</td>\n",
              "    </tr>\n",
              "    <tr>\n",
              "      <th>59998</th>\n",
              "      <td>769ea9ce327d15d77de6</td>\n",
              "      <td>Can you smell carbon monoxide?</td>\n",
              "      <td>0</td>\n",
              "      <td>can you smell carbon monoxide</td>\n",
              "    </tr>\n",
              "    <tr>\n",
              "      <th>59999</th>\n",
              "      <td>5db9fe4f3af5d25d2adc</td>\n",
              "      <td>What shall be my strategy for SSC CGL I I have...</td>\n",
              "      <td>0</td>\n",
              "      <td>what shall be my strategy for ssc cgl i i have...</td>\n",
              "    </tr>\n",
              "  </tbody>\n",
              "</table>\n",
              "</div>\n",
              "      <button class=\"colab-df-convert\" onclick=\"convertToInteractive('df-1caf5ce5-b0cf-4dad-b137-be1d58165b59')\"\n",
              "              title=\"Convert this dataframe to an interactive table.\"\n",
              "              style=\"display:none;\">\n",
              "        \n",
              "  <svg xmlns=\"http://www.w3.org/2000/svg\" height=\"24px\"viewBox=\"0 0 24 24\"\n",
              "       width=\"24px\">\n",
              "    <path d=\"M0 0h24v24H0V0z\" fill=\"none\"/>\n",
              "    <path d=\"M18.56 5.44l.94 2.06.94-2.06 2.06-.94-2.06-.94-.94-2.06-.94 2.06-2.06.94zm-11 1L8.5 8.5l.94-2.06 2.06-.94-2.06-.94L8.5 2.5l-.94 2.06-2.06.94zm10 10l.94 2.06.94-2.06 2.06-.94-2.06-.94-.94-2.06-.94 2.06-2.06.94z\"/><path d=\"M17.41 7.96l-1.37-1.37c-.4-.4-.92-.59-1.43-.59-.52 0-1.04.2-1.43.59L10.3 9.45l-7.72 7.72c-.78.78-.78 2.05 0 2.83L4 21.41c.39.39.9.59 1.41.59.51 0 1.02-.2 1.41-.59l7.78-7.78 2.81-2.81c.8-.78.8-2.07 0-2.86zM5.41 20L4 18.59l7.72-7.72 1.47 1.35L5.41 20z\"/>\n",
              "  </svg>\n",
              "      </button>\n",
              "      \n",
              "  <style>\n",
              "    .colab-df-container {\n",
              "      display:flex;\n",
              "      flex-wrap:wrap;\n",
              "      gap: 12px;\n",
              "    }\n",
              "\n",
              "    .colab-df-convert {\n",
              "      background-color: #E8F0FE;\n",
              "      border: none;\n",
              "      border-radius: 50%;\n",
              "      cursor: pointer;\n",
              "      display: none;\n",
              "      fill: #1967D2;\n",
              "      height: 32px;\n",
              "      padding: 0 0 0 0;\n",
              "      width: 32px;\n",
              "    }\n",
              "\n",
              "    .colab-df-convert:hover {\n",
              "      background-color: #E2EBFA;\n",
              "      box-shadow: 0px 1px 2px rgba(60, 64, 67, 0.3), 0px 1px 3px 1px rgba(60, 64, 67, 0.15);\n",
              "      fill: #174EA6;\n",
              "    }\n",
              "\n",
              "    [theme=dark] .colab-df-convert {\n",
              "      background-color: #3B4455;\n",
              "      fill: #D2E3FC;\n",
              "    }\n",
              "\n",
              "    [theme=dark] .colab-df-convert:hover {\n",
              "      background-color: #434B5C;\n",
              "      box-shadow: 0px 1px 3px 1px rgba(0, 0, 0, 0.15);\n",
              "      filter: drop-shadow(0px 1px 2px rgba(0, 0, 0, 0.3));\n",
              "      fill: #FFFFFF;\n",
              "    }\n",
              "  </style>\n",
              "\n",
              "      <script>\n",
              "        const buttonEl =\n",
              "          document.querySelector('#df-1caf5ce5-b0cf-4dad-b137-be1d58165b59 button.colab-df-convert');\n",
              "        buttonEl.style.display =\n",
              "          google.colab.kernel.accessAllowed ? 'block' : 'none';\n",
              "\n",
              "        async function convertToInteractive(key) {\n",
              "          const element = document.querySelector('#df-1caf5ce5-b0cf-4dad-b137-be1d58165b59');\n",
              "          const dataTable =\n",
              "            await google.colab.kernel.invokeFunction('convertToInteractive',\n",
              "                                                     [key], {});\n",
              "          if (!dataTable) return;\n",
              "\n",
              "          const docLinkHtml = 'Like what you see? Visit the ' +\n",
              "            '<a target=\"_blank\" href=https://colab.research.google.com/notebooks/data_table.ipynb>data table notebook</a>'\n",
              "            + ' to learn more about interactive tables.';\n",
              "          element.innerHTML = '';\n",
              "          dataTable['output_type'] = 'display_data';\n",
              "          await google.colab.output.renderOutput(dataTable, element);\n",
              "          const docLink = document.createElement('div');\n",
              "          docLink.innerHTML = docLinkHtml;\n",
              "          element.appendChild(docLink);\n",
              "        }\n",
              "      </script>\n",
              "    </div>\n",
              "  </div>\n",
              "  "
            ]
          },
          "metadata": {},
          "execution_count": 18
        }
      ]
    },
    {
      "cell_type": "code",
      "source": [
        "stop_word = stopwords.words(\"english\")\n",
        "def rem_stopword(q):\n",
        "  temp_list=[]\n",
        "  for word in q.split():\n",
        "    if word not in stop_word:\n",
        "      temp_list.append(word)\n",
        "  q=\"\".join(temp_list)\n",
        "  return q\n"
      ],
      "metadata": {
        "id": "trZeTU2SBH7V"
      },
      "execution_count": 29,
      "outputs": []
    },
    {
      "cell_type": "code",
      "source": [
        "df[\"question_clean\"] = df[\"questions_rem_punc\"].apply(lambda x: rem_stopword(x))\n",
        "df.tail()"
      ],
      "metadata": {
        "colab": {
          "base_uri": "https://localhost:8080/",
          "height": 250
        },
        "id": "Ia1_kXFdFY3w",
        "outputId": "8d333ed1-d6ab-4142-99b7-c81578b10f34"
      },
      "execution_count": 30,
      "outputs": [
        {
          "output_type": "execute_result",
          "data": {
            "text/plain": [
              "                        qid  \\\n",
              "59995  e150fde70b65a8487a3c   \n",
              "59996  d4850cc437b3d0105408   \n",
              "59997  12a08a0dd742eed811d9   \n",
              "59998  769ea9ce327d15d77de6   \n",
              "59999  5db9fe4f3af5d25d2adc   \n",
              "\n",
              "                                           question_text  target  \\\n",
              "59995              What went wrong with Rocket Internet?       0   \n",
              "59996           Why is being \"dead inside\" frowned upon?       0   \n",
              "59997                  Is Mathematics necessary in life?       0   \n",
              "59998                     Can you smell carbon monoxide?       0   \n",
              "59999  What shall be my strategy for SSC CGL I I have...       0   \n",
              "\n",
              "                                      questions_rem_punc  \\\n",
              "59995               what went wrong with rocket internet   \n",
              "59996              why is being dead inside frowned upon   \n",
              "59997                   is mathematics necessary in life   \n",
              "59998                      can you smell carbon monoxide   \n",
              "59999  what shall be my strategy for ssc cgl i i have...   \n",
              "\n",
              "                           question_clean  \n",
              "59995             wentwrongrocketinternet  \n",
              "59996               deadinsidefrownedupon  \n",
              "59997            mathematicsnecessarylife  \n",
              "59998                 smellcarbonmonoxide  \n",
              "59999  shallstrategyssccglyearsappearexam  "
            ],
            "text/html": [
              "\n",
              "  <div id=\"df-eb2db406-1c17-41dd-8dd5-96289670efa4\">\n",
              "    <div class=\"colab-df-container\">\n",
              "      <div>\n",
              "<style scoped>\n",
              "    .dataframe tbody tr th:only-of-type {\n",
              "        vertical-align: middle;\n",
              "    }\n",
              "\n",
              "    .dataframe tbody tr th {\n",
              "        vertical-align: top;\n",
              "    }\n",
              "\n",
              "    .dataframe thead th {\n",
              "        text-align: right;\n",
              "    }\n",
              "</style>\n",
              "<table border=\"1\" class=\"dataframe\">\n",
              "  <thead>\n",
              "    <tr style=\"text-align: right;\">\n",
              "      <th></th>\n",
              "      <th>qid</th>\n",
              "      <th>question_text</th>\n",
              "      <th>target</th>\n",
              "      <th>questions_rem_punc</th>\n",
              "      <th>question_clean</th>\n",
              "    </tr>\n",
              "  </thead>\n",
              "  <tbody>\n",
              "    <tr>\n",
              "      <th>59995</th>\n",
              "      <td>e150fde70b65a8487a3c</td>\n",
              "      <td>What went wrong with Rocket Internet?</td>\n",
              "      <td>0</td>\n",
              "      <td>what went wrong with rocket internet</td>\n",
              "      <td>wentwrongrocketinternet</td>\n",
              "    </tr>\n",
              "    <tr>\n",
              "      <th>59996</th>\n",
              "      <td>d4850cc437b3d0105408</td>\n",
              "      <td>Why is being \"dead inside\" frowned upon?</td>\n",
              "      <td>0</td>\n",
              "      <td>why is being dead inside frowned upon</td>\n",
              "      <td>deadinsidefrownedupon</td>\n",
              "    </tr>\n",
              "    <tr>\n",
              "      <th>59997</th>\n",
              "      <td>12a08a0dd742eed811d9</td>\n",
              "      <td>Is Mathematics necessary in life?</td>\n",
              "      <td>0</td>\n",
              "      <td>is mathematics necessary in life</td>\n",
              "      <td>mathematicsnecessarylife</td>\n",
              "    </tr>\n",
              "    <tr>\n",
              "      <th>59998</th>\n",
              "      <td>769ea9ce327d15d77de6</td>\n",
              "      <td>Can you smell carbon monoxide?</td>\n",
              "      <td>0</td>\n",
              "      <td>can you smell carbon monoxide</td>\n",
              "      <td>smellcarbonmonoxide</td>\n",
              "    </tr>\n",
              "    <tr>\n",
              "      <th>59999</th>\n",
              "      <td>5db9fe4f3af5d25d2adc</td>\n",
              "      <td>What shall be my strategy for SSC CGL I I have...</td>\n",
              "      <td>0</td>\n",
              "      <td>what shall be my strategy for ssc cgl i i have...</td>\n",
              "      <td>shallstrategyssccglyearsappearexam</td>\n",
              "    </tr>\n",
              "  </tbody>\n",
              "</table>\n",
              "</div>\n",
              "      <button class=\"colab-df-convert\" onclick=\"convertToInteractive('df-eb2db406-1c17-41dd-8dd5-96289670efa4')\"\n",
              "              title=\"Convert this dataframe to an interactive table.\"\n",
              "              style=\"display:none;\">\n",
              "        \n",
              "  <svg xmlns=\"http://www.w3.org/2000/svg\" height=\"24px\"viewBox=\"0 0 24 24\"\n",
              "       width=\"24px\">\n",
              "    <path d=\"M0 0h24v24H0V0z\" fill=\"none\"/>\n",
              "    <path d=\"M18.56 5.44l.94 2.06.94-2.06 2.06-.94-2.06-.94-.94-2.06-.94 2.06-2.06.94zm-11 1L8.5 8.5l.94-2.06 2.06-.94-2.06-.94L8.5 2.5l-.94 2.06-2.06.94zm10 10l.94 2.06.94-2.06 2.06-.94-2.06-.94-.94-2.06-.94 2.06-2.06.94z\"/><path d=\"M17.41 7.96l-1.37-1.37c-.4-.4-.92-.59-1.43-.59-.52 0-1.04.2-1.43.59L10.3 9.45l-7.72 7.72c-.78.78-.78 2.05 0 2.83L4 21.41c.39.39.9.59 1.41.59.51 0 1.02-.2 1.41-.59l7.78-7.78 2.81-2.81c.8-.78.8-2.07 0-2.86zM5.41 20L4 18.59l7.72-7.72 1.47 1.35L5.41 20z\"/>\n",
              "  </svg>\n",
              "      </button>\n",
              "      \n",
              "  <style>\n",
              "    .colab-df-container {\n",
              "      display:flex;\n",
              "      flex-wrap:wrap;\n",
              "      gap: 12px;\n",
              "    }\n",
              "\n",
              "    .colab-df-convert {\n",
              "      background-color: #E8F0FE;\n",
              "      border: none;\n",
              "      border-radius: 50%;\n",
              "      cursor: pointer;\n",
              "      display: none;\n",
              "      fill: #1967D2;\n",
              "      height: 32px;\n",
              "      padding: 0 0 0 0;\n",
              "      width: 32px;\n",
              "    }\n",
              "\n",
              "    .colab-df-convert:hover {\n",
              "      background-color: #E2EBFA;\n",
              "      box-shadow: 0px 1px 2px rgba(60, 64, 67, 0.3), 0px 1px 3px 1px rgba(60, 64, 67, 0.15);\n",
              "      fill: #174EA6;\n",
              "    }\n",
              "\n",
              "    [theme=dark] .colab-df-convert {\n",
              "      background-color: #3B4455;\n",
              "      fill: #D2E3FC;\n",
              "    }\n",
              "\n",
              "    [theme=dark] .colab-df-convert:hover {\n",
              "      background-color: #434B5C;\n",
              "      box-shadow: 0px 1px 3px 1px rgba(0, 0, 0, 0.15);\n",
              "      filter: drop-shadow(0px 1px 2px rgba(0, 0, 0, 0.3));\n",
              "      fill: #FFFFFF;\n",
              "    }\n",
              "  </style>\n",
              "\n",
              "      <script>\n",
              "        const buttonEl =\n",
              "          document.querySelector('#df-eb2db406-1c17-41dd-8dd5-96289670efa4 button.colab-df-convert');\n",
              "        buttonEl.style.display =\n",
              "          google.colab.kernel.accessAllowed ? 'block' : 'none';\n",
              "\n",
              "        async function convertToInteractive(key) {\n",
              "          const element = document.querySelector('#df-eb2db406-1c17-41dd-8dd5-96289670efa4');\n",
              "          const dataTable =\n",
              "            await google.colab.kernel.invokeFunction('convertToInteractive',\n",
              "                                                     [key], {});\n",
              "          if (!dataTable) return;\n",
              "\n",
              "          const docLinkHtml = 'Like what you see? Visit the ' +\n",
              "            '<a target=\"_blank\" href=https://colab.research.google.com/notebooks/data_table.ipynb>data table notebook</a>'\n",
              "            + ' to learn more about interactive tables.';\n",
              "          element.innerHTML = '';\n",
              "          dataTable['output_type'] = 'display_data';\n",
              "          await google.colab.output.renderOutput(dataTable, element);\n",
              "          const docLink = document.createElement('div');\n",
              "          docLink.innerHTML = docLinkHtml;\n",
              "          element.appendChild(docLink);\n",
              "        }\n",
              "      </script>\n",
              "    </div>\n",
              "  </div>\n",
              "  "
            ]
          },
          "metadata": {},
          "execution_count": 30
        }
      ]
    },
    {
      "cell_type": "code",
      "source": [
        "df[[\"question_text\",\"question_clean\"]][-60:-50]"
      ],
      "metadata": {
        "colab": {
          "base_uri": "https://localhost:8080/",
          "height": 363
        },
        "id": "jv4mT8zEGBKE",
        "outputId": "c41aec37-3e54-4639-bbd1-15d5a45c5e4e"
      },
      "execution_count": 31,
      "outputs": [
        {
          "output_type": "execute_result",
          "data": {
            "text/plain": [
              "                                           question_text  \\\n",
              "59940  Why do fan rotate only in circular fashion and...   \n",
              "59941  What causes blood clots after dilation and cur...   \n",
              "59942                 Is it okay to drink energy drinks?   \n",
              "59943  When did the Allies of World War I make the di...   \n",
              "59944  What is the procedure of booking you seat in N...   \n",
              "59945  What is the best company you can get from SRM....   \n",
              "59946         When was the last time you made a mixtape?   \n",
              "59947       How do I get review units as a new YouTuber?   \n",
              "59948                 How I can complete my MBA 4th sem?   \n",
              "59949  Is a 2-3 month gap between menstruation normal...   \n",
              "\n",
              "                                          question_clean  \n",
              "59940           fanrotatecircularfashiontriangularsquare  \n",
              "59941                  causesbloodclotsdilationcurettage  \n",
              "59942                              okaydrinkenergydrinks  \n",
              "59943  alliesworldwarmakedismembermentaustriahungaryw...  \n",
              "59944         procedurebookingseatnludeclaringclatresult  \n",
              "59945                               bestcompanygetsrmcse  \n",
              "59946                                lasttimemademixtape  \n",
              "59947                          getreviewunitsnewyoutuber  \n",
              "59948                                   completembathsem  \n",
              "59949                    monthgapmenstruationnormalteens  "
            ],
            "text/html": [
              "\n",
              "  <div id=\"df-1cc05bc7-b485-411d-8701-14bb2241eca3\">\n",
              "    <div class=\"colab-df-container\">\n",
              "      <div>\n",
              "<style scoped>\n",
              "    .dataframe tbody tr th:only-of-type {\n",
              "        vertical-align: middle;\n",
              "    }\n",
              "\n",
              "    .dataframe tbody tr th {\n",
              "        vertical-align: top;\n",
              "    }\n",
              "\n",
              "    .dataframe thead th {\n",
              "        text-align: right;\n",
              "    }\n",
              "</style>\n",
              "<table border=\"1\" class=\"dataframe\">\n",
              "  <thead>\n",
              "    <tr style=\"text-align: right;\">\n",
              "      <th></th>\n",
              "      <th>question_text</th>\n",
              "      <th>question_clean</th>\n",
              "    </tr>\n",
              "  </thead>\n",
              "  <tbody>\n",
              "    <tr>\n",
              "      <th>59940</th>\n",
              "      <td>Why do fan rotate only in circular fashion and...</td>\n",
              "      <td>fanrotatecircularfashiontriangularsquare</td>\n",
              "    </tr>\n",
              "    <tr>\n",
              "      <th>59941</th>\n",
              "      <td>What causes blood clots after dilation and cur...</td>\n",
              "      <td>causesbloodclotsdilationcurettage</td>\n",
              "    </tr>\n",
              "    <tr>\n",
              "      <th>59942</th>\n",
              "      <td>Is it okay to drink energy drinks?</td>\n",
              "      <td>okaydrinkenergydrinks</td>\n",
              "    </tr>\n",
              "    <tr>\n",
              "      <th>59943</th>\n",
              "      <td>When did the Allies of World War I make the di...</td>\n",
              "      <td>alliesworldwarmakedismembermentaustriahungaryw...</td>\n",
              "    </tr>\n",
              "    <tr>\n",
              "      <th>59944</th>\n",
              "      <td>What is the procedure of booking you seat in N...</td>\n",
              "      <td>procedurebookingseatnludeclaringclatresult</td>\n",
              "    </tr>\n",
              "    <tr>\n",
              "      <th>59945</th>\n",
              "      <td>What is the best company you can get from SRM....</td>\n",
              "      <td>bestcompanygetsrmcse</td>\n",
              "    </tr>\n",
              "    <tr>\n",
              "      <th>59946</th>\n",
              "      <td>When was the last time you made a mixtape?</td>\n",
              "      <td>lasttimemademixtape</td>\n",
              "    </tr>\n",
              "    <tr>\n",
              "      <th>59947</th>\n",
              "      <td>How do I get review units as a new YouTuber?</td>\n",
              "      <td>getreviewunitsnewyoutuber</td>\n",
              "    </tr>\n",
              "    <tr>\n",
              "      <th>59948</th>\n",
              "      <td>How I can complete my MBA 4th sem?</td>\n",
              "      <td>completembathsem</td>\n",
              "    </tr>\n",
              "    <tr>\n",
              "      <th>59949</th>\n",
              "      <td>Is a 2-3 month gap between menstruation normal...</td>\n",
              "      <td>monthgapmenstruationnormalteens</td>\n",
              "    </tr>\n",
              "  </tbody>\n",
              "</table>\n",
              "</div>\n",
              "      <button class=\"colab-df-convert\" onclick=\"convertToInteractive('df-1cc05bc7-b485-411d-8701-14bb2241eca3')\"\n",
              "              title=\"Convert this dataframe to an interactive table.\"\n",
              "              style=\"display:none;\">\n",
              "        \n",
              "  <svg xmlns=\"http://www.w3.org/2000/svg\" height=\"24px\"viewBox=\"0 0 24 24\"\n",
              "       width=\"24px\">\n",
              "    <path d=\"M0 0h24v24H0V0z\" fill=\"none\"/>\n",
              "    <path d=\"M18.56 5.44l.94 2.06.94-2.06 2.06-.94-2.06-.94-.94-2.06-.94 2.06-2.06.94zm-11 1L8.5 8.5l.94-2.06 2.06-.94-2.06-.94L8.5 2.5l-.94 2.06-2.06.94zm10 10l.94 2.06.94-2.06 2.06-.94-2.06-.94-.94-2.06-.94 2.06-2.06.94z\"/><path d=\"M17.41 7.96l-1.37-1.37c-.4-.4-.92-.59-1.43-.59-.52 0-1.04.2-1.43.59L10.3 9.45l-7.72 7.72c-.78.78-.78 2.05 0 2.83L4 21.41c.39.39.9.59 1.41.59.51 0 1.02-.2 1.41-.59l7.78-7.78 2.81-2.81c.8-.78.8-2.07 0-2.86zM5.41 20L4 18.59l7.72-7.72 1.47 1.35L5.41 20z\"/>\n",
              "  </svg>\n",
              "      </button>\n",
              "      \n",
              "  <style>\n",
              "    .colab-df-container {\n",
              "      display:flex;\n",
              "      flex-wrap:wrap;\n",
              "      gap: 12px;\n",
              "    }\n",
              "\n",
              "    .colab-df-convert {\n",
              "      background-color: #E8F0FE;\n",
              "      border: none;\n",
              "      border-radius: 50%;\n",
              "      cursor: pointer;\n",
              "      display: none;\n",
              "      fill: #1967D2;\n",
              "      height: 32px;\n",
              "      padding: 0 0 0 0;\n",
              "      width: 32px;\n",
              "    }\n",
              "\n",
              "    .colab-df-convert:hover {\n",
              "      background-color: #E2EBFA;\n",
              "      box-shadow: 0px 1px 2px rgba(60, 64, 67, 0.3), 0px 1px 3px 1px rgba(60, 64, 67, 0.15);\n",
              "      fill: #174EA6;\n",
              "    }\n",
              "\n",
              "    [theme=dark] .colab-df-convert {\n",
              "      background-color: #3B4455;\n",
              "      fill: #D2E3FC;\n",
              "    }\n",
              "\n",
              "    [theme=dark] .colab-df-convert:hover {\n",
              "      background-color: #434B5C;\n",
              "      box-shadow: 0px 1px 3px 1px rgba(0, 0, 0, 0.15);\n",
              "      filter: drop-shadow(0px 1px 2px rgba(0, 0, 0, 0.3));\n",
              "      fill: #FFFFFF;\n",
              "    }\n",
              "  </style>\n",
              "\n",
              "      <script>\n",
              "        const buttonEl =\n",
              "          document.querySelector('#df-1cc05bc7-b485-411d-8701-14bb2241eca3 button.colab-df-convert');\n",
              "        buttonEl.style.display =\n",
              "          google.colab.kernel.accessAllowed ? 'block' : 'none';\n",
              "\n",
              "        async function convertToInteractive(key) {\n",
              "          const element = document.querySelector('#df-1cc05bc7-b485-411d-8701-14bb2241eca3');\n",
              "          const dataTable =\n",
              "            await google.colab.kernel.invokeFunction('convertToInteractive',\n",
              "                                                     [key], {});\n",
              "          if (!dataTable) return;\n",
              "\n",
              "          const docLinkHtml = 'Like what you see? Visit the ' +\n",
              "            '<a target=\"_blank\" href=https://colab.research.google.com/notebooks/data_table.ipynb>data table notebook</a>'\n",
              "            + ' to learn more about interactive tables.';\n",
              "          element.innerHTML = '';\n",
              "          dataTable['output_type'] = 'display_data';\n",
              "          await google.colab.output.renderOutput(dataTable, element);\n",
              "          const docLink = document.createElement('div');\n",
              "          docLink.innerHTML = docLinkHtml;\n",
              "          element.appendChild(docLink);\n",
              "        }\n",
              "      </script>\n",
              "    </div>\n",
              "  </div>\n",
              "  "
            ]
          },
          "metadata": {},
          "execution_count": 31
        }
      ]
    },
    {
      "cell_type": "code",
      "source": [
        "ps = PorterStemmer()\n",
        "stop_words = set(stopwords.words('english'))"
      ],
      "metadata": {
        "id": "srN_6TOpHabB"
      },
      "execution_count": 34,
      "outputs": []
    },
    {
      "cell_type": "code",
      "source": [
        "df.tail(10)"
      ],
      "metadata": {
        "colab": {
          "base_uri": "https://localhost:8080/",
          "height": 511
        },
        "id": "MZ1UucYbG381",
        "outputId": "01516c0c-8e59-4071-83d1-1758f75b5998"
      },
      "execution_count": 35,
      "outputs": [
        {
          "output_type": "execute_result",
          "data": {
            "text/plain": [
              "                        qid  \\\n",
              "59990  6c35984b443d1429ade9   \n",
              "59991  ca63417e3ac988286dcf   \n",
              "59992  9e5cec9fff94f7503d93   \n",
              "59993  bc41f4032d5c958672d2   \n",
              "59994  8522f7a3da5b9b2286e2   \n",
              "59995  e150fde70b65a8487a3c   \n",
              "59996  d4850cc437b3d0105408   \n",
              "59997  12a08a0dd742eed811d9   \n",
              "59998  769ea9ce327d15d77de6   \n",
              "59999  5db9fe4f3af5d25d2adc   \n",
              "\n",
              "                                           question_text  target  \\\n",
              "59990  What elements should I include in an outdoor k...       0   \n",
              "59991  What was the probability of the Shuttle failin...       0   \n",
              "59992  Has Modi taken any step to prevent corruption ...       0   \n",
              "59993  What is the most inappropriate outfit someone ...       0   \n",
              "59994                          Who pays the Uber driver?       0   \n",
              "59995              What went wrong with Rocket Internet?       0   \n",
              "59996           Why is being \"dead inside\" frowned upon?       0   \n",
              "59997                  Is Mathematics necessary in life?       0   \n",
              "59998                     Can you smell carbon monoxide?       0   \n",
              "59999  What shall be my strategy for SSC CGL I I have...       0   \n",
              "\n",
              "                                      questions_rem_punc  \\\n",
              "59990  what elements should i include in an outdoor k...   \n",
              "59991  what was the probability of the shuttle failin...   \n",
              "59992  has modi taken any step to prevent corruption ...   \n",
              "59993  what is the most inappropriate outfit someone ...   \n",
              "59994                           who pays the uber driver   \n",
              "59995               what went wrong with rocket internet   \n",
              "59996              why is being dead inside frowned upon   \n",
              "59997                   is mathematics necessary in life   \n",
              "59998                      can you smell carbon monoxide   \n",
              "59999  what shall be my strategy for ssc cgl i i have...   \n",
              "\n",
              "                                          question_clean  \n",
              "59990                      elementsincludeoutdoorkitchen  \n",
              "59991                probabilityshuttlefailinglandrunway  \n",
              "59992  moditakensteppreventcorruptionexceptdemonetisa...  \n",
              "59993            inappropriateoutfitsomeonewornworkplace  \n",
              "59994                                     paysuberdriver  \n",
              "59995                            wentwrongrocketinternet  \n",
              "59996                              deadinsidefrownedupon  \n",
              "59997                           mathematicsnecessarylife  \n",
              "59998                                smellcarbonmonoxide  \n",
              "59999                 shallstrategyssccglyearsappearexam  "
            ],
            "text/html": [
              "\n",
              "  <div id=\"df-5f690304-b801-41ea-b9af-d08396de644d\">\n",
              "    <div class=\"colab-df-container\">\n",
              "      <div>\n",
              "<style scoped>\n",
              "    .dataframe tbody tr th:only-of-type {\n",
              "        vertical-align: middle;\n",
              "    }\n",
              "\n",
              "    .dataframe tbody tr th {\n",
              "        vertical-align: top;\n",
              "    }\n",
              "\n",
              "    .dataframe thead th {\n",
              "        text-align: right;\n",
              "    }\n",
              "</style>\n",
              "<table border=\"1\" class=\"dataframe\">\n",
              "  <thead>\n",
              "    <tr style=\"text-align: right;\">\n",
              "      <th></th>\n",
              "      <th>qid</th>\n",
              "      <th>question_text</th>\n",
              "      <th>target</th>\n",
              "      <th>questions_rem_punc</th>\n",
              "      <th>question_clean</th>\n",
              "    </tr>\n",
              "  </thead>\n",
              "  <tbody>\n",
              "    <tr>\n",
              "      <th>59990</th>\n",
              "      <td>6c35984b443d1429ade9</td>\n",
              "      <td>What elements should I include in an outdoor k...</td>\n",
              "      <td>0</td>\n",
              "      <td>what elements should i include in an outdoor k...</td>\n",
              "      <td>elementsincludeoutdoorkitchen</td>\n",
              "    </tr>\n",
              "    <tr>\n",
              "      <th>59991</th>\n",
              "      <td>ca63417e3ac988286dcf</td>\n",
              "      <td>What was the probability of the Shuttle failin...</td>\n",
              "      <td>0</td>\n",
              "      <td>what was the probability of the shuttle failin...</td>\n",
              "      <td>probabilityshuttlefailinglandrunway</td>\n",
              "    </tr>\n",
              "    <tr>\n",
              "      <th>59992</th>\n",
              "      <td>9e5cec9fff94f7503d93</td>\n",
              "      <td>Has Modi taken any step to prevent corruption ...</td>\n",
              "      <td>0</td>\n",
              "      <td>has modi taken any step to prevent corruption ...</td>\n",
              "      <td>moditakensteppreventcorruptionexceptdemonetisa...</td>\n",
              "    </tr>\n",
              "    <tr>\n",
              "      <th>59993</th>\n",
              "      <td>bc41f4032d5c958672d2</td>\n",
              "      <td>What is the most inappropriate outfit someone ...</td>\n",
              "      <td>0</td>\n",
              "      <td>what is the most inappropriate outfit someone ...</td>\n",
              "      <td>inappropriateoutfitsomeonewornworkplace</td>\n",
              "    </tr>\n",
              "    <tr>\n",
              "      <th>59994</th>\n",
              "      <td>8522f7a3da5b9b2286e2</td>\n",
              "      <td>Who pays the Uber driver?</td>\n",
              "      <td>0</td>\n",
              "      <td>who pays the uber driver</td>\n",
              "      <td>paysuberdriver</td>\n",
              "    </tr>\n",
              "    <tr>\n",
              "      <th>59995</th>\n",
              "      <td>e150fde70b65a8487a3c</td>\n",
              "      <td>What went wrong with Rocket Internet?</td>\n",
              "      <td>0</td>\n",
              "      <td>what went wrong with rocket internet</td>\n",
              "      <td>wentwrongrocketinternet</td>\n",
              "    </tr>\n",
              "    <tr>\n",
              "      <th>59996</th>\n",
              "      <td>d4850cc437b3d0105408</td>\n",
              "      <td>Why is being \"dead inside\" frowned upon?</td>\n",
              "      <td>0</td>\n",
              "      <td>why is being dead inside frowned upon</td>\n",
              "      <td>deadinsidefrownedupon</td>\n",
              "    </tr>\n",
              "    <tr>\n",
              "      <th>59997</th>\n",
              "      <td>12a08a0dd742eed811d9</td>\n",
              "      <td>Is Mathematics necessary in life?</td>\n",
              "      <td>0</td>\n",
              "      <td>is mathematics necessary in life</td>\n",
              "      <td>mathematicsnecessarylife</td>\n",
              "    </tr>\n",
              "    <tr>\n",
              "      <th>59998</th>\n",
              "      <td>769ea9ce327d15d77de6</td>\n",
              "      <td>Can you smell carbon monoxide?</td>\n",
              "      <td>0</td>\n",
              "      <td>can you smell carbon monoxide</td>\n",
              "      <td>smellcarbonmonoxide</td>\n",
              "    </tr>\n",
              "    <tr>\n",
              "      <th>59999</th>\n",
              "      <td>5db9fe4f3af5d25d2adc</td>\n",
              "      <td>What shall be my strategy for SSC CGL I I have...</td>\n",
              "      <td>0</td>\n",
              "      <td>what shall be my strategy for ssc cgl i i have...</td>\n",
              "      <td>shallstrategyssccglyearsappearexam</td>\n",
              "    </tr>\n",
              "  </tbody>\n",
              "</table>\n",
              "</div>\n",
              "      <button class=\"colab-df-convert\" onclick=\"convertToInteractive('df-5f690304-b801-41ea-b9af-d08396de644d')\"\n",
              "              title=\"Convert this dataframe to an interactive table.\"\n",
              "              style=\"display:none;\">\n",
              "        \n",
              "  <svg xmlns=\"http://www.w3.org/2000/svg\" height=\"24px\"viewBox=\"0 0 24 24\"\n",
              "       width=\"24px\">\n",
              "    <path d=\"M0 0h24v24H0V0z\" fill=\"none\"/>\n",
              "    <path d=\"M18.56 5.44l.94 2.06.94-2.06 2.06-.94-2.06-.94-.94-2.06-.94 2.06-2.06.94zm-11 1L8.5 8.5l.94-2.06 2.06-.94-2.06-.94L8.5 2.5l-.94 2.06-2.06.94zm10 10l.94 2.06.94-2.06 2.06-.94-2.06-.94-.94-2.06-.94 2.06-2.06.94z\"/><path d=\"M17.41 7.96l-1.37-1.37c-.4-.4-.92-.59-1.43-.59-.52 0-1.04.2-1.43.59L10.3 9.45l-7.72 7.72c-.78.78-.78 2.05 0 2.83L4 21.41c.39.39.9.59 1.41.59.51 0 1.02-.2 1.41-.59l7.78-7.78 2.81-2.81c.8-.78.8-2.07 0-2.86zM5.41 20L4 18.59l7.72-7.72 1.47 1.35L5.41 20z\"/>\n",
              "  </svg>\n",
              "      </button>\n",
              "      \n",
              "  <style>\n",
              "    .colab-df-container {\n",
              "      display:flex;\n",
              "      flex-wrap:wrap;\n",
              "      gap: 12px;\n",
              "    }\n",
              "\n",
              "    .colab-df-convert {\n",
              "      background-color: #E8F0FE;\n",
              "      border: none;\n",
              "      border-radius: 50%;\n",
              "      cursor: pointer;\n",
              "      display: none;\n",
              "      fill: #1967D2;\n",
              "      height: 32px;\n",
              "      padding: 0 0 0 0;\n",
              "      width: 32px;\n",
              "    }\n",
              "\n",
              "    .colab-df-convert:hover {\n",
              "      background-color: #E2EBFA;\n",
              "      box-shadow: 0px 1px 2px rgba(60, 64, 67, 0.3), 0px 1px 3px 1px rgba(60, 64, 67, 0.15);\n",
              "      fill: #174EA6;\n",
              "    }\n",
              "\n",
              "    [theme=dark] .colab-df-convert {\n",
              "      background-color: #3B4455;\n",
              "      fill: #D2E3FC;\n",
              "    }\n",
              "\n",
              "    [theme=dark] .colab-df-convert:hover {\n",
              "      background-color: #434B5C;\n",
              "      box-shadow: 0px 1px 3px 1px rgba(0, 0, 0, 0.15);\n",
              "      filter: drop-shadow(0px 1px 2px rgba(0, 0, 0, 0.3));\n",
              "      fill: #FFFFFF;\n",
              "    }\n",
              "  </style>\n",
              "\n",
              "      <script>\n",
              "        const buttonEl =\n",
              "          document.querySelector('#df-5f690304-b801-41ea-b9af-d08396de644d button.colab-df-convert');\n",
              "        buttonEl.style.display =\n",
              "          google.colab.kernel.accessAllowed ? 'block' : 'none';\n",
              "\n",
              "        async function convertToInteractive(key) {\n",
              "          const element = document.querySelector('#df-5f690304-b801-41ea-b9af-d08396de644d');\n",
              "          const dataTable =\n",
              "            await google.colab.kernel.invokeFunction('convertToInteractive',\n",
              "                                                     [key], {});\n",
              "          if (!dataTable) return;\n",
              "\n",
              "          const docLinkHtml = 'Like what you see? Visit the ' +\n",
              "            '<a target=\"_blank\" href=https://colab.research.google.com/notebooks/data_table.ipynb>data table notebook</a>'\n",
              "            + ' to learn more about interactive tables.';\n",
              "          element.innerHTML = '';\n",
              "          dataTable['output_type'] = 'display_data';\n",
              "          await google.colab.output.renderOutput(dataTable, element);\n",
              "          const docLink = document.createElement('div');\n",
              "          docLink.innerHTML = docLinkHtml;\n",
              "          element.appendChild(docLink);\n",
              "        }\n",
              "      </script>\n",
              "    </div>\n",
              "  </div>\n",
              "  "
            ]
          },
          "metadata": {},
          "execution_count": 35
        }
      ]
    },
    {
      "cell_type": "code",
      "source": [
        "# stemming example\n",
        "words = [\"go\", \"going\", \"gone\", \"goes\"]\n",
        "for word in words:\n",
        "    print(word,\"--->\",ps.stem(word))"
      ],
      "metadata": {
        "colab": {
          "base_uri": "https://localhost:8080/"
        },
        "id": "1NxmFEvKG8ml",
        "outputId": "5d8a3cff-bfc2-4012-a021-434f845977be"
      },
      "execution_count": 36,
      "outputs": [
        {
          "output_type": "stream",
          "name": "stdout",
          "text": [
            "go ---> go\n",
            "going ---> go\n",
            "gone ---> gone\n",
            "goes ---> goe\n"
          ]
        }
      ]
    },
    {
      "cell_type": "code",
      "source": [
        "def stem(q):\n",
        "  temp_list = []\n",
        "  # q = \"shall strategy ssc cgl 3 years appear exam\"\n",
        "  for word in q.split():\n",
        "    temp_list.append(ps.stem(word))\n",
        "\n",
        "  q = \" \".join(temp_list)\n",
        "  return q"
      ],
      "metadata": {
        "id": "7bKRYGasHgYS"
      },
      "execution_count": 37,
      "outputs": []
    },
    {
      "cell_type": "code",
      "source": [
        "df[\"question_stem\"] = df[\"question_clean\"].apply(lambda x : stem(x))\n",
        "df[[\"question_text\",\"question_stem\"]][-70:-60]"
      ],
      "metadata": {
        "colab": {
          "base_uri": "https://localhost:8080/",
          "height": 363
        },
        "id": "DVjuip9YIDoW",
        "outputId": "8010a8d5-76ed-41fa-f039-2876aa2f5707"
      },
      "execution_count": 38,
      "outputs": [
        {
          "output_type": "execute_result",
          "data": {
            "text/plain": [
              "                                           question_text  \\\n",
              "59930  What kind Animals did they use in Arab Calipha...   \n",
              "59931  What are the most important features of Wester...   \n",
              "59932  What are the main reasons for a pet snake to h...   \n",
              "59933  Have any of you met a man who called the polic...   \n",
              "59934  In Groundhog Day (1993), is the time loop caus...   \n",
              "59935     How do I find critical and non critical races?   \n",
              "59936      How are cysts developed in your labia minora?   \n",
              "59937  Why do I feel a deep longing for my twin flame...   \n",
              "59938  What is the job of a life coach and how can I ...   \n",
              "59939  What if you get married after your Visa is can...   \n",
              "\n",
              "                                    question_stem  \n",
              "59930                    kindanimalsusearabcaliph  \n",
              "59931          importantfeatureswesternphilosophi  \n",
              "59932                mainreasonspetsnakepinkbelli  \n",
              "59933                metmancalledpolicenakedwoman  \n",
              "59934       groundhogdaytimeloopcausedholidayicon  \n",
              "59935                  findcriticalnoncriticalrac  \n",
              "59936                   cystsdevelopedlabiaminora  \n",
              "59937  feeldeeplongingtwinflameeventhoughnevermet  \n",
              "59938                 joblifecoachbecomelifecoach  \n",
              "59939                        getmarriedvisacancel  "
            ],
            "text/html": [
              "\n",
              "  <div id=\"df-f1a97dae-2d27-4852-8a81-06a4da5ba042\">\n",
              "    <div class=\"colab-df-container\">\n",
              "      <div>\n",
              "<style scoped>\n",
              "    .dataframe tbody tr th:only-of-type {\n",
              "        vertical-align: middle;\n",
              "    }\n",
              "\n",
              "    .dataframe tbody tr th {\n",
              "        vertical-align: top;\n",
              "    }\n",
              "\n",
              "    .dataframe thead th {\n",
              "        text-align: right;\n",
              "    }\n",
              "</style>\n",
              "<table border=\"1\" class=\"dataframe\">\n",
              "  <thead>\n",
              "    <tr style=\"text-align: right;\">\n",
              "      <th></th>\n",
              "      <th>question_text</th>\n",
              "      <th>question_stem</th>\n",
              "    </tr>\n",
              "  </thead>\n",
              "  <tbody>\n",
              "    <tr>\n",
              "      <th>59930</th>\n",
              "      <td>What kind Animals did they use in Arab Calipha...</td>\n",
              "      <td>kindanimalsusearabcaliph</td>\n",
              "    </tr>\n",
              "    <tr>\n",
              "      <th>59931</th>\n",
              "      <td>What are the most important features of Wester...</td>\n",
              "      <td>importantfeatureswesternphilosophi</td>\n",
              "    </tr>\n",
              "    <tr>\n",
              "      <th>59932</th>\n",
              "      <td>What are the main reasons for a pet snake to h...</td>\n",
              "      <td>mainreasonspetsnakepinkbelli</td>\n",
              "    </tr>\n",
              "    <tr>\n",
              "      <th>59933</th>\n",
              "      <td>Have any of you met a man who called the polic...</td>\n",
              "      <td>metmancalledpolicenakedwoman</td>\n",
              "    </tr>\n",
              "    <tr>\n",
              "      <th>59934</th>\n",
              "      <td>In Groundhog Day (1993), is the time loop caus...</td>\n",
              "      <td>groundhogdaytimeloopcausedholidayicon</td>\n",
              "    </tr>\n",
              "    <tr>\n",
              "      <th>59935</th>\n",
              "      <td>How do I find critical and non critical races?</td>\n",
              "      <td>findcriticalnoncriticalrac</td>\n",
              "    </tr>\n",
              "    <tr>\n",
              "      <th>59936</th>\n",
              "      <td>How are cysts developed in your labia minora?</td>\n",
              "      <td>cystsdevelopedlabiaminora</td>\n",
              "    </tr>\n",
              "    <tr>\n",
              "      <th>59937</th>\n",
              "      <td>Why do I feel a deep longing for my twin flame...</td>\n",
              "      <td>feeldeeplongingtwinflameeventhoughnevermet</td>\n",
              "    </tr>\n",
              "    <tr>\n",
              "      <th>59938</th>\n",
              "      <td>What is the job of a life coach and how can I ...</td>\n",
              "      <td>joblifecoachbecomelifecoach</td>\n",
              "    </tr>\n",
              "    <tr>\n",
              "      <th>59939</th>\n",
              "      <td>What if you get married after your Visa is can...</td>\n",
              "      <td>getmarriedvisacancel</td>\n",
              "    </tr>\n",
              "  </tbody>\n",
              "</table>\n",
              "</div>\n",
              "      <button class=\"colab-df-convert\" onclick=\"convertToInteractive('df-f1a97dae-2d27-4852-8a81-06a4da5ba042')\"\n",
              "              title=\"Convert this dataframe to an interactive table.\"\n",
              "              style=\"display:none;\">\n",
              "        \n",
              "  <svg xmlns=\"http://www.w3.org/2000/svg\" height=\"24px\"viewBox=\"0 0 24 24\"\n",
              "       width=\"24px\">\n",
              "    <path d=\"M0 0h24v24H0V0z\" fill=\"none\"/>\n",
              "    <path d=\"M18.56 5.44l.94 2.06.94-2.06 2.06-.94-2.06-.94-.94-2.06-.94 2.06-2.06.94zm-11 1L8.5 8.5l.94-2.06 2.06-.94-2.06-.94L8.5 2.5l-.94 2.06-2.06.94zm10 10l.94 2.06.94-2.06 2.06-.94-2.06-.94-.94-2.06-.94 2.06-2.06.94z\"/><path d=\"M17.41 7.96l-1.37-1.37c-.4-.4-.92-.59-1.43-.59-.52 0-1.04.2-1.43.59L10.3 9.45l-7.72 7.72c-.78.78-.78 2.05 0 2.83L4 21.41c.39.39.9.59 1.41.59.51 0 1.02-.2 1.41-.59l7.78-7.78 2.81-2.81c.8-.78.8-2.07 0-2.86zM5.41 20L4 18.59l7.72-7.72 1.47 1.35L5.41 20z\"/>\n",
              "  </svg>\n",
              "      </button>\n",
              "      \n",
              "  <style>\n",
              "    .colab-df-container {\n",
              "      display:flex;\n",
              "      flex-wrap:wrap;\n",
              "      gap: 12px;\n",
              "    }\n",
              "\n",
              "    .colab-df-convert {\n",
              "      background-color: #E8F0FE;\n",
              "      border: none;\n",
              "      border-radius: 50%;\n",
              "      cursor: pointer;\n",
              "      display: none;\n",
              "      fill: #1967D2;\n",
              "      height: 32px;\n",
              "      padding: 0 0 0 0;\n",
              "      width: 32px;\n",
              "    }\n",
              "\n",
              "    .colab-df-convert:hover {\n",
              "      background-color: #E2EBFA;\n",
              "      box-shadow: 0px 1px 2px rgba(60, 64, 67, 0.3), 0px 1px 3px 1px rgba(60, 64, 67, 0.15);\n",
              "      fill: #174EA6;\n",
              "    }\n",
              "\n",
              "    [theme=dark] .colab-df-convert {\n",
              "      background-color: #3B4455;\n",
              "      fill: #D2E3FC;\n",
              "    }\n",
              "\n",
              "    [theme=dark] .colab-df-convert:hover {\n",
              "      background-color: #434B5C;\n",
              "      box-shadow: 0px 1px 3px 1px rgba(0, 0, 0, 0.15);\n",
              "      filter: drop-shadow(0px 1px 2px rgba(0, 0, 0, 0.3));\n",
              "      fill: #FFFFFF;\n",
              "    }\n",
              "  </style>\n",
              "\n",
              "      <script>\n",
              "        const buttonEl =\n",
              "          document.querySelector('#df-f1a97dae-2d27-4852-8a81-06a4da5ba042 button.colab-df-convert');\n",
              "        buttonEl.style.display =\n",
              "          google.colab.kernel.accessAllowed ? 'block' : 'none';\n",
              "\n",
              "        async function convertToInteractive(key) {\n",
              "          const element = document.querySelector('#df-f1a97dae-2d27-4852-8a81-06a4da5ba042');\n",
              "          const dataTable =\n",
              "            await google.colab.kernel.invokeFunction('convertToInteractive',\n",
              "                                                     [key], {});\n",
              "          if (!dataTable) return;\n",
              "\n",
              "          const docLinkHtml = 'Like what you see? Visit the ' +\n",
              "            '<a target=\"_blank\" href=https://colab.research.google.com/notebooks/data_table.ipynb>data table notebook</a>'\n",
              "            + ' to learn more about interactive tables.';\n",
              "          element.innerHTML = '';\n",
              "          dataTable['output_type'] = 'display_data';\n",
              "          await google.colab.output.renderOutput(dataTable, element);\n",
              "          const docLink = document.createElement('div');\n",
              "          docLink.innerHTML = docLinkHtml;\n",
              "          element.appendChild(docLink);\n",
              "        }\n",
              "      </script>\n",
              "    </div>\n",
              "  </div>\n",
              "  "
            ]
          },
          "metadata": {},
          "execution_count": 38
        }
      ]
    },
    {
      "cell_type": "code",
      "source": [
        "# let's look in stop_word set\n",
        "stop_words"
      ],
      "metadata": {
        "colab": {
          "base_uri": "https://localhost:8080/"
        },
        "id": "qVzGwjYuIOXk",
        "outputId": "79b5ea42-83ab-4766-cb85-55f32b790912"
      },
      "execution_count": 39,
      "outputs": [
        {
          "output_type": "execute_result",
          "data": {
            "text/plain": [
              "{'a',\n",
              " 'about',\n",
              " 'above',\n",
              " 'after',\n",
              " 'again',\n",
              " 'against',\n",
              " 'ain',\n",
              " 'all',\n",
              " 'am',\n",
              " 'an',\n",
              " 'and',\n",
              " 'any',\n",
              " 'are',\n",
              " 'aren',\n",
              " \"aren't\",\n",
              " 'as',\n",
              " 'at',\n",
              " 'be',\n",
              " 'because',\n",
              " 'been',\n",
              " 'before',\n",
              " 'being',\n",
              " 'below',\n",
              " 'between',\n",
              " 'both',\n",
              " 'but',\n",
              " 'by',\n",
              " 'can',\n",
              " 'couldn',\n",
              " \"couldn't\",\n",
              " 'd',\n",
              " 'did',\n",
              " 'didn',\n",
              " \"didn't\",\n",
              " 'do',\n",
              " 'does',\n",
              " 'doesn',\n",
              " \"doesn't\",\n",
              " 'doing',\n",
              " 'don',\n",
              " \"don't\",\n",
              " 'down',\n",
              " 'during',\n",
              " 'each',\n",
              " 'few',\n",
              " 'for',\n",
              " 'from',\n",
              " 'further',\n",
              " 'had',\n",
              " 'hadn',\n",
              " \"hadn't\",\n",
              " 'has',\n",
              " 'hasn',\n",
              " \"hasn't\",\n",
              " 'have',\n",
              " 'haven',\n",
              " \"haven't\",\n",
              " 'having',\n",
              " 'he',\n",
              " 'her',\n",
              " 'here',\n",
              " 'hers',\n",
              " 'herself',\n",
              " 'him',\n",
              " 'himself',\n",
              " 'his',\n",
              " 'how',\n",
              " 'i',\n",
              " 'if',\n",
              " 'in',\n",
              " 'into',\n",
              " 'is',\n",
              " 'isn',\n",
              " \"isn't\",\n",
              " 'it',\n",
              " \"it's\",\n",
              " 'its',\n",
              " 'itself',\n",
              " 'just',\n",
              " 'll',\n",
              " 'm',\n",
              " 'ma',\n",
              " 'me',\n",
              " 'mightn',\n",
              " \"mightn't\",\n",
              " 'more',\n",
              " 'most',\n",
              " 'mustn',\n",
              " \"mustn't\",\n",
              " 'my',\n",
              " 'myself',\n",
              " 'needn',\n",
              " \"needn't\",\n",
              " 'no',\n",
              " 'nor',\n",
              " 'not',\n",
              " 'now',\n",
              " 'o',\n",
              " 'of',\n",
              " 'off',\n",
              " 'on',\n",
              " 'once',\n",
              " 'only',\n",
              " 'or',\n",
              " 'other',\n",
              " 'our',\n",
              " 'ours',\n",
              " 'ourselves',\n",
              " 'out',\n",
              " 'over',\n",
              " 'own',\n",
              " 're',\n",
              " 's',\n",
              " 'same',\n",
              " 'shan',\n",
              " \"shan't\",\n",
              " 'she',\n",
              " \"she's\",\n",
              " 'should',\n",
              " \"should've\",\n",
              " 'shouldn',\n",
              " \"shouldn't\",\n",
              " 'so',\n",
              " 'some',\n",
              " 'such',\n",
              " 't',\n",
              " 'than',\n",
              " 'that',\n",
              " \"that'll\",\n",
              " 'the',\n",
              " 'their',\n",
              " 'theirs',\n",
              " 'them',\n",
              " 'themselves',\n",
              " 'then',\n",
              " 'there',\n",
              " 'these',\n",
              " 'they',\n",
              " 'this',\n",
              " 'those',\n",
              " 'through',\n",
              " 'to',\n",
              " 'too',\n",
              " 'under',\n",
              " 'until',\n",
              " 'up',\n",
              " 've',\n",
              " 'very',\n",
              " 'was',\n",
              " 'wasn',\n",
              " \"wasn't\",\n",
              " 'we',\n",
              " 'were',\n",
              " 'weren',\n",
              " \"weren't\",\n",
              " 'what',\n",
              " 'when',\n",
              " 'where',\n",
              " 'which',\n",
              " 'while',\n",
              " 'who',\n",
              " 'whom',\n",
              " 'why',\n",
              " 'will',\n",
              " 'with',\n",
              " 'won',\n",
              " \"won't\",\n",
              " 'wouldn',\n",
              " \"wouldn't\",\n",
              " 'y',\n",
              " 'you',\n",
              " \"you'd\",\n",
              " \"you'll\",\n",
              " \"you're\",\n",
              " \"you've\",\n",
              " 'your',\n",
              " 'yours',\n",
              " 'yourself',\n",
              " 'yourselves'}"
            ]
          },
          "metadata": {},
          "execution_count": 39
        }
      ]
    },
    {
      "cell_type": "code",
      "source": [
        "def text_transformation(usr_question):\n",
        "\n",
        "    mod_question = usr_question\n",
        "    # return only A-Z,a-z and \" \" in our usr_question\n",
        "    mod_question = re.sub('[^a-zA-Z]',' ',str(mod_question))\n",
        "    # convert mod_question in lower case\n",
        "    mod_question = mod_question.lower()\n",
        "    # split mod_question on the basis of space\n",
        "    mod_question = mod_question.split()\n",
        "    # feed splitted individual words to stemmer which are not in stop_words \n",
        "    mod_question = [ps.stem(word) for word in mod_question if word not in stop_words]\n",
        "    #return stemmed reviews\n",
        "    return (' '.join(str(y) for y in mod_question))"
      ],
      "metadata": {
        "id": "ckkHSPDDIZKs"
      },
      "execution_count": 40,
      "outputs": []
    },
    {
      "cell_type": "code",
      "source": [
        "# Creating new column \"stem_review\"\n",
        "df['stem_question'] = df['question_text'].apply(lambda x: text_transformation(x))"
      ],
      "metadata": {
        "id": "pJ7iXnHZJC9K"
      },
      "execution_count": 41,
      "outputs": []
    },
    {
      "cell_type": "code",
      "source": [
        "df['stem_question'].tail()"
      ],
      "metadata": {
        "colab": {
          "base_uri": "https://localhost:8080/"
        },
        "id": "OKI69neZJNNR",
        "outputId": "f5c33c14-dd21-42f3-c1bf-fe6dff1c8c33"
      },
      "execution_count": 42,
      "outputs": [
        {
          "output_type": "execute_result",
          "data": {
            "text/plain": [
              "59995                 went wrong rocket internet\n",
              "59996                      dead insid frown upon\n",
              "59997                    mathemat necessari life\n",
              "59998                       smell carbon monoxid\n",
              "59999    shall strategi ssc cgl year appear exam\n",
              "Name: stem_question, dtype: object"
            ]
          },
          "metadata": {},
          "execution_count": 42
        }
      ]
    },
    {
      "cell_type": "code",
      "source": [
        "df.columns"
      ],
      "metadata": {
        "colab": {
          "base_uri": "https://localhost:8080/"
        },
        "id": "wvrloTJgJXsE",
        "outputId": "3d146be7-eddc-4967-e767-c5506c9e3dfb"
      },
      "execution_count": 43,
      "outputs": [
        {
          "output_type": "execute_result",
          "data": {
            "text/plain": [
              "Index(['qid', 'question_text', 'target', 'questions_rem_punc',\n",
              "       'question_clean', 'question_stem', 'stem_question'],\n",
              "      dtype='object')"
            ]
          },
          "metadata": {},
          "execution_count": 43
        }
      ]
    },
    {
      "cell_type": "code",
      "source": [
        "# train_test split\n",
        "X = df['question_stem']\n",
        "y = df['target']\n",
        "X_train, X_test, y_train, y_test = train_test_split(X, y, test_size=0.33, random_state=23)"
      ],
      "metadata": {
        "id": "8_a_9RVUJjtO"
      },
      "execution_count": 44,
      "outputs": []
    },
    {
      "cell_type": "code",
      "source": [
        "#cheking class bifuraction\n",
        "\n",
        "print(f\"X_train : {X_train.shape}\")\n",
        "print(f\"X_test : {X_test.shape}\")\n",
        "print(f\"y_train : {y_train.shape}\")\n",
        "print(f\"y_test : {y_test.shape}\")\n",
        "\n",
        "print(\"class bifurcation for y_train \", y_train.value_counts()/ len(y_train))\n",
        "print(\"class bifurcation for y_test \", y_test.value_counts()/ len(y_test))"
      ],
      "metadata": {
        "colab": {
          "base_uri": "https://localhost:8080/"
        },
        "id": "6dFCa2jcJuI-",
        "outputId": "894d8d40-a203-4061-e1bf-9a9ee48d4b8f"
      },
      "execution_count": 45,
      "outputs": [
        {
          "output_type": "stream",
          "name": "stdout",
          "text": [
            "X_train : (40200,)\n",
            "X_test : (19800,)\n",
            "y_train : (40200,)\n",
            "y_test : (19800,)\n",
            "class bifurcation for y_train  0    0.83495\n",
            "1    0.16505\n",
            "Name: target, dtype: float64\n",
            "class bifurcation for y_test  0    0.830051\n",
            "1    0.169949\n",
            "Name: target, dtype: float64\n"
          ]
        }
      ]
    },
    {
      "cell_type": "code",
      "source": [
        "# We can plot WordCloud to get an intution of the important keywords in our reviews\n",
        "def word_count(x):\n",
        "  # plt.rcParams['figure.figsize'] = 15,8\n",
        "  plt.figure(figsize = (15,8))\n",
        "  word_cloud = \"\"\n",
        "  for row in x:\n",
        "      for word in row:\n",
        "          word_cloud+=\" \".join(word)\n",
        "  # print(word_cloud)\n",
        "  wordcloud = WordCloud(width = 1000, height = 500,background_color ='white',min_font_size = 10).generate(word_cloud)\n",
        "  plt.imshow(wordcloud)"
      ],
      "metadata": {
        "id": "0vTID4xYR3x6"
      },
      "execution_count": 46,
      "outputs": []
    },
    {
      "cell_type": "code",
      "source": [
        "useless_question = df[\"question_stem\"][df[\"target\"] == 1]\n",
        "# useless_question\n",
        "word_count(useless_question)"
      ],
      "metadata": {
        "colab": {
          "base_uri": "https://localhost:8080/",
          "height": 615
        },
        "id": "5GOPskPJR97Q",
        "outputId": "bcf320c1-924e-4ab2-e36e-bd7364abdac3"
      },
      "execution_count": 47,
      "outputs": [
        {
          "output_type": "display_data",
          "data": {
            "text/plain": [
              "<Figure size 1500x800 with 1 Axes>"
            ],
            "image/png": "[encoded data removed]"
          },
          "metadata": {}
        }
      ]
    },
    {
      "cell_type": "code",
      "source": [
        "# countVectorizer transforrm text data to vectors, so that model can process data\n",
        "cv = CountVectorizer(ngram_range=(1,2))\n",
        "X_train_transformed = cv.fit_transform(X_train)\n",
        "X_test_transformed = cv.transform(X_test)"
      ],
      "metadata": {
        "id": "ujtZL6xsSrTl"
      },
      "execution_count": 53,
      "outputs": []
    },
    {
      "cell_type": "code",
      "source": [
        "X_train_transformed.toarray().shape"
      ],
      "metadata": {
        "colab": {
          "base_uri": "https://localhost:8080/"
        },
        "id": "PmrmUB_iSw7B",
        "outputId": "ce395c01-5f14-4d05-c9d7-f79f98c6fb24"
      },
      "execution_count": 55,
      "outputs": [
        {
          "output_type": "execute_result",
          "data": {
            "text/plain": [
              "(40200, 42328)"
            ]
          },
          "metadata": {},
          "execution_count": 55
        }
      ]
    },
    {
      "cell_type": "code",
      "source": [
        "print(\"Number of records in X_trains : \",len(X_train))"
      ],
      "metadata": {
        "colab": {
          "base_uri": "https://localhost:8080/"
        },
        "id": "9o1E0sihS1vU",
        "outputId": "87d3c3f8-eb43-4c3e-c575-8b39d38522e7"
      },
      "execution_count": 56,
      "outputs": [
        {
          "output_type": "stream",
          "name": "stdout",
          "text": [
            "Number of records in X_trains :  40200\n"
          ]
        }
      ]
    },
    {
      "cell_type": "code",
      "source": [
        "X_train_transformed"
      ],
      "metadata": {
        "colab": {
          "base_uri": "https://localhost:8080/"
        },
        "id": "wC1rqHqNS8Vt",
        "outputId": "6c79c8d2-b782-40d8-8603-a2ab5001f11d"
      },
      "execution_count": 57,
      "outputs": [
        {
          "output_type": "execute_result",
          "data": {
            "text/plain": [
              "<40200x42328 sparse matrix of type '<class 'numpy.int64'>'\n",
              "\twith 42502 stored elements in Compressed Sparse Row format>"
            ]
          },
          "metadata": {},
          "execution_count": 57
        }
      ]
    },
    {
      "cell_type": "code",
      "source": [
        "from sklearn.naive_bayes import MultinomialNB"
      ],
      "metadata": {
        "id": "LrxGNOYSTBet"
      },
      "execution_count": 58,
      "outputs": []
    },
    {
      "cell_type": "code",
      "source": [
        "clf = MultinomialNB()\n",
        "clf.fit(X_train_transformed, y_train)"
      ],
      "metadata": {
        "colab": {
          "base_uri": "https://localhost:8080/",
          "height": 74
        },
        "id": "MwSs_XxPTGuq",
        "outputId": "acac7801-8877-46b3-81ea-265deeb0a4ae"
      },
      "execution_count": 59,
      "outputs": [
        {
          "output_type": "execute_result",
          "data": {
            "text/plain": [
              "MultinomialNB()"
            ],
            "text/html": [
              "<style>#sk-container-id-1 {color: black;background-color: white;}#sk-container-id-1 pre{padding: 0;}#sk-container-id-1 div.sk-toggleable {background-color: white;}#sk-container-id-1 label.sk-toggleable__label {cursor: pointer;display: block;width: 100%;margin-bottom: 0;padding: 0.3em;box-sizing: border-box;text-align: center;}#sk-container-id-1 label.sk-toggleable__label-arrow:before {content: \"▸\";float: left;margin-right: 0.25em;color: #696969;}#sk-container-id-1 label.sk-toggleable__label-arrow:hover:before {color: black;}#sk-container-id-1 div.sk-estimator:hover label.sk-toggleable__label-arrow:before {color: black;}#sk-container-id-1 div.sk-toggleable__content {max-height: 0;max-width: 0;overflow: hidden;text-align: left;background-color: #f0f8ff;}#sk-container-id-1 div.sk-toggleable__content pre {margin: 0.2em;color: black;border-radius: 0.25em;background-color: #f0f8ff;}#sk-container-id-1 input.sk-toggleable__control:checked~div.sk-toggleable__content {max-height: 200px;max-width: 100%;overflow: auto;}#sk-container-id-1 input.sk-toggleable__control:checked~label.sk-toggleable__label-arrow:before {content: \"▾\";}#sk-container-id-1 div.sk-estimator input.sk-toggleable__control:checked~label.sk-toggleable__label {background-color: #d4ebff;}#sk-container-id-1 div.sk-label input.sk-toggleable__control:checked~label.sk-toggleable__label {background-color: #d4ebff;}#sk-container-id-1 input.sk-hidden--visually {border: 0;clip: rect(1px 1px 1px 1px);clip: rect(1px, 1px, 1px, 1px);height: 1px;margin: -1px;overflow: hidden;padding: 0;position: absolute;width: 1px;}#sk-container-id-1 div.sk-estimator {font-family: monospace;background-color: #f0f8ff;border: 1px dotted black;border-radius: 0.25em;box-sizing: border-box;margin-bottom: 0.5em;}#sk-container-id-1 div.sk-estimator:hover {background-color: #d4ebff;}#sk-container-id-1 div.sk-parallel-item::after {content: \"\";width: 100%;border-bottom: 1px solid gray;flex-grow: 1;}#sk-container-id-1 div.sk-label:hover label.sk-toggleable__label {background-color: #d4ebff;}#sk-container-id-1 div.sk-serial::before {content: \"\";position: absolute;border-left: 1px solid gray;box-sizing: border-box;top: 0;bottom: 0;left: 50%;z-index: 0;}#sk-container-id-1 div.sk-serial {display: flex;flex-direction: column;align-items: center;background-color: white;padding-right: 0.2em;padding-left: 0.2em;position: relative;}#sk-container-id-1 div.sk-item {position: relative;z-index: 1;}#sk-container-id-1 div.sk-parallel {display: flex;align-items: stretch;justify-content: center;background-color: white;position: relative;}#sk-container-id-1 div.sk-item::before, #sk-container-id-1 div.sk-parallel-item::before {content: \"\";position: absolute;border-left: 1px solid gray;box-sizing: border-box;top: 0;bottom: 0;left: 50%;z-index: -1;}#sk-container-id-1 div.sk-parallel-item {display: flex;flex-direction: column;z-index: 1;position: relative;background-color: white;}#sk-container-id-1 div.sk-parallel-item:first-child::after {align-self: flex-end;width: 50%;}#sk-container-id-1 div.sk-parallel-item:last-child::after {align-self: flex-start;width: 50%;}#sk-container-id-1 div.sk-parallel-item:only-child::after {width: 0;}#sk-container-id-1 div.sk-dashed-wrapped {border: 1px dashed gray;margin: 0 0.4em 0.5em 0.4em;box-sizing: border-box;padding-bottom: 0.4em;background-color: white;}#sk-container-id-1 div.sk-label label {font-family: monospace;font-weight: bold;display: inline-block;line-height: 1.2em;}#sk-container-id-1 div.sk-label-container {text-align: center;}#sk-container-id-1 div.sk-container {/* jupyter's `normalize.less` sets `[hidden] { display: none; }` but bootstrap.min.css set `[hidden] { display: none !important; }` so we also need the `!important` here to be able to override the default hidden behavior on the sphinx rendered scikit-learn.org. See: https://github.com/scikit-learn/scikit-learn/issues/21755 */display: inline-block !important;position: relative;}#sk-container-id-1 div.sk-text-repr-fallback {display: none;}</style><div id=\"sk-container-id-1\" class=\"sk-top-container\"><div class=\"sk-text-repr-fallback\"><pre>MultinomialNB()</pre><b>In a Jupyter environment, please rerun this cell to show the HTML representation or trust the notebook. <br />On GitHub, the HTML representation is unable to render, please try loading this page with nbviewer.org.</b></div><div class=\"sk-container\" hidden><div class=\"sk-item\"><div class=\"sk-estimator sk-toggleable\"><input class=\"sk-toggleable__control sk-hidden--visually\" id=\"sk-estimator-id-1\" type=\"checkbox\" checked><label for=\"sk-estimator-id-1\" class=\"sk-toggleable__label sk-toggleable__label-arrow\">MultinomialNB</label><div class=\"sk-toggleable__content\"><pre>MultinomialNB()</pre></div></div></div></div></div>"
            ]
          },
          "metadata": {},
          "execution_count": 59
        }
      ]
    },
    {
      "cell_type": "code",
      "source": [
        "y_pred = clf.predict(X_test_transformed)"
      ],
      "metadata": {
        "id": "UPlvtDvESimq"
      },
      "execution_count": 60,
      "outputs": []
    },
    {
      "cell_type": "code",
      "source": [
        "from sklearn.metrics import classification_report, confusion_matrix\n",
        "print(classification_report(y_test, y_pred))"
      ],
      "metadata": {
        "colab": {
          "base_uri": "https://localhost:8080/"
        },
        "id": "jHnPbduWSRNi",
        "outputId": "05157e31-b6a0-4644-cff6-a4b61a7370cd"
      },
      "execution_count": 62,
      "outputs": [
        {
          "output_type": "stream",
          "name": "stdout",
          "text": [
            "              precision    recall  f1-score   support\n",
            "\n",
            "           0       0.83      1.00      0.91     16435\n",
            "           1       0.76      0.00      0.01      3365\n",
            "\n",
            "    accuracy                           0.83     19800\n",
            "   macro avg       0.80      0.50      0.46     19800\n",
            "weighted avg       0.82      0.83      0.75     19800\n",
            "\n"
          ]
        }
      ]
    },
    {
      "cell_type": "code",
      "source": [
        "def confusion(y_test, y_pred):\n",
        "\n",
        "    sns.set_theme(style=\"whitegrid\")\n",
        "    plt.rcParams[\"figure.figsize\"] = [7, 4]\n",
        "    plt.rcParams[\"figure.autolayout\"] = True\n",
        "    data = confusion_matrix(y_test,y_pred)\n",
        "    df_cm = pd.DataFrame(data)\n",
        "    df_cm.index.name = 'Actual'\n",
        "    df_cm.columns.name = 'Predicted'\n",
        "    cm = sns.heatmap(df_cm,annot=True, fmt='g')\n",
        "    cm.plot()"
      ],
      "metadata": {
        "id": "Mv3nS5h2TXSi"
      },
      "execution_count": 64,
      "outputs": []
    }
  ]
}