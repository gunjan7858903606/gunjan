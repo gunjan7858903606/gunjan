{
  "nbformat": 4,
  "nbformat_minor": 0,
  "metadata": {
    "colab": {
      "provenance": [],
      "authorship_tag": "ABX9TyMLUOqckRns8jwzc0bwv/X9",
      "include_colab_link": true
    },
    "kernelspec": {
      "name": "python3",
      "display_name": "Python 3"
    },
    "language_info": {
      "name": "python"
    }
  },
  "cells": [
    {
      "cell_type": "markdown",
      "metadata": {
        "id": "view-in-github",
        "colab_type": "text"
      },
      "source": [
        "<a href=\"https://colab.research.google.com/github/gunjan7858903606/gunjan/blob/main/Untitled36.ipynb\" target=\"_parent\"><img src=\"https://colab.research.google.com/assets/colab-badge.svg\" alt=\"Open In Colab\"/></a>"
      ]
    },
    {
      "cell_type": "markdown",
      "source": [
        "# project of bangluru house piction in data set"
      ],
      "metadata": {
        "id": "i2LXWuLoQs7P"
      }
    },
    {
      "cell_type": "code",
      "source": [
        "import pandas as pd\n",
        "import numpy as np\n",
        "import seaborn as sns\n",
        "import matplotlib.pyplot as plt"
      ],
      "metadata": {
        "id": "-89miH-GR849"
      },
      "execution_count": 1,
      "outputs": []
    },
    {
      "cell_type": "code",
      "source": [
        "# read_csv\n",
        "df = pd.read_csv(\"/content/bengaluruhousingdataset.csv.zip\")"
      ],
      "metadata": {
        "id": "OYY9fAuhSIni"
      },
      "execution_count": 2,
      "outputs": []
    },
    {
      "cell_type": "code",
      "source": [
        "df.head()"
      ],
      "metadata": {
        "colab": {
          "base_uri": "https://localhost:8080/",
          "height": 206
        },
        "id": "8v0x3jsWScqk",
        "outputId": "4f8901d6-2fe4-4239-9a7b-b8d875596fea"
      },
      "execution_count": 3,
      "outputs": [
        {
          "output_type": "execute_result",
          "data": {
            "text/plain": [
              "              area_type   availability                  location       size  \\\n",
              "0  Super built-up  Area         19-Dec  Electronic City Phase II      2 BHK   \n",
              "1            Plot  Area  Ready To Move          Chikka Tirupathi  4 Bedroom   \n",
              "2        Built-up  Area  Ready To Move               Uttarahalli      3 BHK   \n",
              "3  Super built-up  Area  Ready To Move        Lingadheeranahalli      3 BHK   \n",
              "4  Super built-up  Area  Ready To Move                  Kothanur      2 BHK   \n",
              "\n",
              "   society total_sqft  bath  balcony   price  \n",
              "0  Coomee        1056   2.0      1.0   39.07  \n",
              "1  Theanmp       2600   5.0      3.0  120.00  \n",
              "2      NaN       1440   2.0      3.0   62.00  \n",
              "3  Soiewre       1521   3.0      1.0   95.00  \n",
              "4      NaN       1200   2.0      1.0   51.00  "
            ],
            "text/html": [
              "\n",
              "  <div id=\"df-3e5d9705-5420-4504-abed-de074926d2b4\">\n",
              "    <div class=\"colab-df-container\">\n",
              "      <div>\n",
              "<style scoped>\n",
              "    .dataframe tbody tr th:only-of-type {\n",
              "        vertical-align: middle;\n",
              "    }\n",
              "\n",
              "    .dataframe tbody tr th {\n",
              "        vertical-align: top;\n",
              "    }\n",
              "\n",
              "    .dataframe thead th {\n",
              "        text-align: right;\n",
              "    }\n",
              "</style>\n",
              "<table border=\"1\" class=\"dataframe\">\n",
              "  <thead>\n",
              "    <tr style=\"text-align: right;\">\n",
              "      <th></th>\n",
              "      <th>area_type</th>\n",
              "      <th>availability</th>\n",
              "      <th>location</th>\n",
              "      <th>size</th>\n",
              "      <th>society</th>\n",
              "      <th>total_sqft</th>\n",
              "      <th>bath</th>\n",
              "      <th>balcony</th>\n",
              "      <th>price</th>\n",
              "    </tr>\n",
              "  </thead>\n",
              "  <tbody>\n",
              "    <tr>\n",
              "      <th>0</th>\n",
              "      <td>Super built-up  Area</td>\n",
              "      <td>19-Dec</td>\n",
              "      <td>Electronic City Phase II</td>\n",
              "      <td>2 BHK</td>\n",
              "      <td>Coomee</td>\n",
              "      <td>1056</td>\n",
              "      <td>2.0</td>\n",
              "      <td>1.0</td>\n",
              "      <td>39.07</td>\n",
              "    </tr>\n",
              "    <tr>\n",
              "      <th>1</th>\n",
              "      <td>Plot  Area</td>\n",
              "      <td>Ready To Move</td>\n",
              "      <td>Chikka Tirupathi</td>\n",
              "      <td>4 Bedroom</td>\n",
              "      <td>Theanmp</td>\n",
              "      <td>2600</td>\n",
              "      <td>5.0</td>\n",
              "      <td>3.0</td>\n",
              "      <td>120.00</td>\n",
              "    </tr>\n",
              "    <tr>\n",
              "      <th>2</th>\n",
              "      <td>Built-up  Area</td>\n",
              "      <td>Ready To Move</td>\n",
              "      <td>Uttarahalli</td>\n",
              "      <td>3 BHK</td>\n",
              "      <td>NaN</td>\n",
              "      <td>1440</td>\n",
              "      <td>2.0</td>\n",
              "      <td>3.0</td>\n",
              "      <td>62.00</td>\n",
              "    </tr>\n",
              "    <tr>\n",
              "      <th>3</th>\n",
              "      <td>Super built-up  Area</td>\n",
              "      <td>Ready To Move</td>\n",
              "      <td>Lingadheeranahalli</td>\n",
              "      <td>3 BHK</td>\n",
              "      <td>Soiewre</td>\n",
              "      <td>1521</td>\n",
              "      <td>3.0</td>\n",
              "      <td>1.0</td>\n",
              "      <td>95.00</td>\n",
              "    </tr>\n",
              "    <tr>\n",
              "      <th>4</th>\n",
              "      <td>Super built-up  Area</td>\n",
              "      <td>Ready To Move</td>\n",
              "      <td>Kothanur</td>\n",
              "      <td>2 BHK</td>\n",
              "      <td>NaN</td>\n",
              "      <td>1200</td>\n",
              "      <td>2.0</td>\n",
              "      <td>1.0</td>\n",
              "      <td>51.00</td>\n",
              "    </tr>\n",
              "  </tbody>\n",
              "</table>\n",
              "</div>\n",
              "      <button class=\"colab-df-convert\" onclick=\"convertToInteractive('df-3e5d9705-5420-4504-abed-de074926d2b4')\"\n",
              "              title=\"Convert this dataframe to an interactive table.\"\n",
              "              style=\"display:none;\">\n",
              "        \n",
              "  <svg xmlns=\"http://www.w3.org/2000/svg\" height=\"24px\"viewBox=\"0 0 24 24\"\n",
              "       width=\"24px\">\n",
              "    <path d=\"M0 0h24v24H0V0z\" fill=\"none\"/>\n",
              "    <path d=\"M18.56 5.44l.94 2.06.94-2.06 2.06-.94-2.06-.94-.94-2.06-.94 2.06-2.06.94zm-11 1L8.5 8.5l.94-2.06 2.06-.94-2.06-.94L8.5 2.5l-.94 2.06-2.06.94zm10 10l.94 2.06.94-2.06 2.06-.94-2.06-.94-.94-2.06-.94 2.06-2.06.94z\"/><path d=\"M17.41 7.96l-1.37-1.37c-.4-.4-.92-.59-1.43-.59-.52 0-1.04.2-1.43.59L10.3 9.45l-7.72 7.72c-.78.78-.78 2.05 0 2.83L4 21.41c.39.39.9.59 1.41.59.51 0 1.02-.2 1.41-.59l7.78-7.78 2.81-2.81c.8-.78.8-2.07 0-2.86zM5.41 20L4 18.59l7.72-7.72 1.47 1.35L5.41 20z\"/>\n",
              "  </svg>\n",
              "      </button>\n",
              "      \n",
              "  <style>\n",
              "    .colab-df-container {\n",
              "      display:flex;\n",
              "      flex-wrap:wrap;\n",
              "      gap: 12px;\n",
              "    }\n",
              "\n",
              "    .colab-df-convert {\n",
              "      background-color: #E8F0FE;\n",
              "      border: none;\n",
              "      border-radius: 50%;\n",
              "      cursor: pointer;\n",
              "      display: none;\n",
              "      fill: #1967D2;\n",
              "      height: 32px;\n",
              "      padding: 0 0 0 0;\n",
              "      width: 32px;\n",
              "    }\n",
              "\n",
              "    .colab-df-convert:hover {\n",
              "      background-color: #E2EBFA;\n",
              "      box-shadow: 0px 1px 2px rgba(60, 64, 67, 0.3), 0px 1px 3px 1px rgba(60, 64, 67, 0.15);\n",
              "      fill: #174EA6;\n",
              "    }\n",
              "\n",
              "    [theme=dark] .colab-df-convert {\n",
              "      background-color: #3B4455;\n",
              "      fill: #D2E3FC;\n",
              "    }\n",
              "\n",
              "    [theme=dark] .colab-df-convert:hover {\n",
              "      background-color: #434B5C;\n",
              "      box-shadow: 0px 1px 3px 1px rgba(0, 0, 0, 0.15);\n",
              "      filter: drop-shadow(0px 1px 2px rgba(0, 0, 0, 0.3));\n",
              "      fill: #FFFFFF;\n",
              "    }\n",
              "  </style>\n",
              "\n",
              "      <script>\n",
              "        const buttonEl =\n",
              "          document.querySelector('#df-3e5d9705-5420-4504-abed-de074926d2b4 button.colab-df-convert');\n",
              "        buttonEl.style.display =\n",
              "          google.colab.kernel.accessAllowed ? 'block' : 'none';\n",
              "\n",
              "        async function convertToInteractive(key) {\n",
              "          const element = document.querySelector('#df-3e5d9705-5420-4504-abed-de074926d2b4');\n",
              "          const dataTable =\n",
              "            await google.colab.kernel.invokeFunction('convertToInteractive',\n",
              "                                                     [key], {});\n",
              "          if (!dataTable) return;\n",
              "\n",
              "          const docLinkHtml = 'Like what you see? Visit the ' +\n",
              "            '<a target=\"_blank\" href=https://colab.research.google.com/notebooks/data_table.ipynb>data table notebook</a>'\n",
              "            + ' to learn more about interactive tables.';\n",
              "          element.innerHTML = '';\n",
              "          dataTable['output_type'] = 'display_data';\n",
              "          await google.colab.output.renderOutput(dataTable, element);\n",
              "          const docLink = document.createElement('div');\n",
              "          docLink.innerHTML = docLinkHtml;\n",
              "          element.appendChild(docLink);\n",
              "        }\n",
              "      </script>\n",
              "    </div>\n",
              "  </div>\n",
              "  "
            ]
          },
          "metadata": {},
          "execution_count": 3
        }
      ]
    },
    {
      "cell_type": "code",
      "source": [
        "df.info()"
      ],
      "metadata": {
        "colab": {
          "base_uri": "https://localhost:8080/"
        },
        "id": "Gls9bkNdSipW",
        "outputId": "400a6003-02b8-4840-b282-4b6bc309b06a"
      },
      "execution_count": 4,
      "outputs": [
        {
          "output_type": "stream",
          "name": "stdout",
          "text": [
            "<class 'pandas.core.frame.DataFrame'>\n",
            "RangeIndex: 13320 entries, 0 to 13319\n",
            "Data columns (total 9 columns):\n",
            " #   Column        Non-Null Count  Dtype  \n",
            "---  ------        --------------  -----  \n",
            " 0   area_type     13320 non-null  object \n",
            " 1   availability  13320 non-null  object \n",
            " 2   location      13319 non-null  object \n",
            " 3   size          13304 non-null  object \n",
            " 4   society       7818 non-null   object \n",
            " 5   total_sqft    13320 non-null  object \n",
            " 6   bath          13247 non-null  float64\n",
            " 7   balcony       12711 non-null  float64\n",
            " 8   price         13320 non-null  float64\n",
            "dtypes: float64(3), object(6)\n",
            "memory usage: 936.7+ KB\n"
          ]
        }
      ]
    },
    {
      "cell_type": "markdown",
      "source": [
        "## finding missing value"
      ],
      "metadata": {
        "id": "kOMT1cFIV0Zi"
      }
    },
    {
      "cell_type": "code",
      "source": [
        "df.isnull().sum()*100/len(df)"
      ],
      "metadata": {
        "colab": {
          "base_uri": "https://localhost:8080/"
        },
        "id": "zoXxRDmhU8ph",
        "outputId": "e833c3a8-540d-407d-a848-1deb0e722bef"
      },
      "execution_count": 5,
      "outputs": [
        {
          "output_type": "execute_result",
          "data": {
            "text/plain": [
              "area_type        0.000000\n",
              "availability     0.000000\n",
              "location         0.007508\n",
              "size             0.120120\n",
              "society         41.306306\n",
              "total_sqft       0.000000\n",
              "bath             0.548048\n",
              "balcony          4.572072\n",
              "price            0.000000\n",
              "dtype: float64"
            ]
          },
          "metadata": {},
          "execution_count": 5
        }
      ]
    },
    {
      "cell_type": "code",
      "source": [
        "df.drop(columns=\"society\",inplace=True)"
      ],
      "metadata": {
        "id": "Tzhh4ZyzVOG6"
      },
      "execution_count": 6,
      "outputs": []
    },
    {
      "cell_type": "code",
      "source": [
        "df.info()"
      ],
      "metadata": {
        "colab": {
          "base_uri": "https://localhost:8080/"
        },
        "id": "nXKiuPlJWG4B",
        "outputId": "fe915b01-7b12-475b-ff43-c146589bacd3"
      },
      "execution_count": 7,
      "outputs": [
        {
          "output_type": "stream",
          "name": "stdout",
          "text": [
            "<class 'pandas.core.frame.DataFrame'>\n",
            "RangeIndex: 13320 entries, 0 to 13319\n",
            "Data columns (total 8 columns):\n",
            " #   Column        Non-Null Count  Dtype  \n",
            "---  ------        --------------  -----  \n",
            " 0   area_type     13320 non-null  object \n",
            " 1   availability  13320 non-null  object \n",
            " 2   location      13319 non-null  object \n",
            " 3   size          13304 non-null  object \n",
            " 4   total_sqft    13320 non-null  object \n",
            " 5   bath          13247 non-null  float64\n",
            " 6   balcony       12711 non-null  float64\n",
            " 7   price         13320 non-null  float64\n",
            "dtypes: float64(3), object(5)\n",
            "memory usage: 832.6+ KB\n"
          ]
        }
      ]
    },
    {
      "cell_type": "code",
      "source": [
        "a=\"22 sqft\"\n",
        "type(a)"
      ],
      "metadata": {
        "colab": {
          "base_uri": "https://localhost:8080/"
        },
        "id": "Z6EYF05NWWU6",
        "outputId": "cb1ef2d0-9702-46c7-a458-b5fb8aaab78b"
      },
      "execution_count": 8,
      "outputs": [
        {
          "output_type": "execute_result",
          "data": {
            "text/plain": [
              "str"
            ]
          },
          "metadata": {},
          "execution_count": 8
        }
      ]
    },
    {
      "cell_type": "code",
      "source": [
        "float(a)"
      ],
      "metadata": {
        "colab": {
          "base_uri": "https://localhost:8080/",
          "height": 166
        },
        "id": "w0FO5cSWWfwC",
        "outputId": "67c9963c-c295-4759-fa4b-f9817825ec3d"
      },
      "execution_count": 9,
      "outputs": [
        {
          "output_type": "error",
          "ename": "ValueError",
          "evalue": "ignored",
          "traceback": [
            "\u001b[0;31m---------------------------------------------------------------------------\u001b[0m",
            "\u001b[0;31mValueError\u001b[0m                                Traceback (most recent call last)",
            "\u001b[0;32m<ipython-input-9-6c8cade3f87c>\u001b[0m in \u001b[0;36m<cell line: 1>\u001b[0;34m()\u001b[0m\n\u001b[0;32m----> 1\u001b[0;31m \u001b[0mfloat\u001b[0m\u001b[0;34m(\u001b[0m\u001b[0ma\u001b[0m\u001b[0;34m)\u001b[0m\u001b[0;34m\u001b[0m\u001b[0;34m\u001b[0m\u001b[0m\n\u001b[0m",
            "\u001b[0;31mValueError\u001b[0m: could not convert string to float: '22 sqft'"
          ]
        }
      ]
    },
    {
      "cell_type": "code",
      "source": [
        "float(22)"
      ],
      "metadata": {
        "colab": {
          "base_uri": "https://localhost:8080/"
        },
        "id": "Dw7dGfJHWn4_",
        "outputId": "df2a6fb2-74f4-41a5-9697-12ecad2d82d0"
      },
      "execution_count": 10,
      "outputs": [
        {
          "output_type": "execute_result",
          "data": {
            "text/plain": [
              "22.0"
            ]
          },
          "metadata": {},
          "execution_count": 10
        }
      ]
    },
    {
      "cell_type": "code",
      "source": [
        "problematic_values = []\n",
        "for i in df[\"total_sqft\"]:\n",
        "  \n",
        "  try:\n",
        "\n",
        "    float(i)\n",
        "  except:\n",
        "    problematic_values.append(i)"
      ],
      "metadata": {
        "id": "eXNgrw6XXAfp"
      },
      "execution_count": 11,
      "outputs": []
    },
    {
      "cell_type": "code",
      "source": [
        "problematic_values"
      ],
      "metadata": {
        "colab": {
          "base_uri": "https://localhost:8080/"
        },
        "id": "kuO2rJszXIzA",
        "outputId": "48a48f95-dd32-4e48-cf84-1255f0ccdd6a"
      },
      "execution_count": 12,
      "outputs": [
        {
          "output_type": "execute_result",
          "data": {
            "text/plain": [
              "['2100 - 2850',\n",
              " '3010 - 3410',\n",
              " '2957 - 3450',\n",
              " '3067 - 8156',\n",
              " '1042 - 1105',\n",
              " '1145 - 1340',\n",
              " '1015 - 1540',\n",
              " '1520 - 1740',\n",
              " '34.46Sq. Meter',\n",
              " '1195 - 1440',\n",
              " '1200 - 2400',\n",
              " '4125Perch',\n",
              " '1120 - 1145',\n",
              " '4400 - 6640',\n",
              " '3090 - 5002',\n",
              " '4400 - 6800',\n",
              " '1160 - 1195',\n",
              " '1000Sq. Meter',\n",
              " '4000 - 5249',\n",
              " '1115 - 1130',\n",
              " '1100Sq. Yards',\n",
              " '520 - 645',\n",
              " '1000 - 1285',\n",
              " '3606 - 5091',\n",
              " '650 - 665',\n",
              " '633 - 666',\n",
              " '5.31Acres',\n",
              " '30Acres',\n",
              " '1445 - 1455',\n",
              " '884 - 1116',\n",
              " '850 - 1093',\n",
              " '1440 - 1884',\n",
              " '716Sq. Meter',\n",
              " '547.34 - 827.31',\n",
              " '580 - 650',\n",
              " '3425 - 3435',\n",
              " '1804 - 2273',\n",
              " '3630 - 3800',\n",
              " '660 - 670',\n",
              " '4000 - 5249',\n",
              " '1500Sq. Meter',\n",
              " '620 - 933',\n",
              " '142.61Sq. Meter',\n",
              " '2695 - 2940',\n",
              " '2000 - 5634',\n",
              " '1574Sq. Yards',\n",
              " '3450 - 3472',\n",
              " '1250 - 1305',\n",
              " '670 - 980',\n",
              " '1005.03 - 1252.49',\n",
              " '3630 - 3800',\n",
              " '1004 - 1204',\n",
              " '361.33Sq. Yards',\n",
              " '645 - 936',\n",
              " '2710 - 3360',\n",
              " '2249.81 - 4112.19',\n",
              " '3436 - 3643',\n",
              " '2830 - 2882',\n",
              " '596 - 804',\n",
              " '1255 - 1863',\n",
              " '1300 - 1405',\n",
              " '1200 - 2400',\n",
              " '1500 - 2400',\n",
              " '117Sq. Yards',\n",
              " '934 - 1437',\n",
              " '980 - 1030',\n",
              " '1564 - 1850',\n",
              " '1446 - 1506',\n",
              " '2249.81 - 4112.19',\n",
              " '1070 - 1315',\n",
              " '3040Sq. Meter',\n",
              " '500Sq. Yards',\n",
              " '2806 - 3019',\n",
              " '613 - 648',\n",
              " '1430 - 1630',\n",
              " '704 - 730',\n",
              " '1482 - 1846',\n",
              " '2805 - 3565',\n",
              " '3293 - 5314',\n",
              " '1210 - 1477',\n",
              " '3369 - 3464',\n",
              " '1125 - 1500',\n",
              " '167Sq. Meter',\n",
              " '1076 - 1199',\n",
              " '381 - 535',\n",
              " '2215 - 2475',\n",
              " '524 - 894',\n",
              " '540 - 670',\n",
              " '315Sq. Yards',\n",
              " '1650 - 2538',\n",
              " '2725 - 3250',\n",
              " '1974 - 2171',\n",
              " '888 - 1290',\n",
              " '1360 - 1890',\n",
              " '2466 - 2856',\n",
              " '660 - 700',\n",
              " '385 - 440',\n",
              " '2100 - 5405',\n",
              " '770 - 841',\n",
              " '524 - 894',\n",
              " '3Cents',\n",
              " '1310 - 1615',\n",
              " '1782 - 2000',\n",
              " '188.89Sq. Yards',\n",
              " '1469 - 1766',\n",
              " '204Sq. Meter',\n",
              " '1255 - 1350',\n",
              " '870 - 1080',\n",
              " '45Sq. Yards',\n",
              " '133.3Sq. Yards',\n",
              " '2580 - 2591',\n",
              " '613 - 648',\n",
              " '2563 - 2733',\n",
              " '605 - 624',\n",
              " '4260 - 4408',\n",
              " '1349 - 3324',\n",
              " '78.03Sq. Meter',\n",
              " '1255 - 1350',\n",
              " '3300 - 3335',\n",
              " '1180 - 1630',\n",
              " '1365 - 1700',\n",
              " '3500 - 3600',\n",
              " '122Sq. Yards',\n",
              " '2830 - 2882',\n",
              " '84.53Sq. Meter',\n",
              " '2.09Acres',\n",
              " '2830 - 2882',\n",
              " '1482 - 1684',\n",
              " '981 - 1249',\n",
              " '1100 - 1225',\n",
              " '1565 - 1595',\n",
              " '24Guntha',\n",
              " '1270 - 1275',\n",
              " '840 - 1010',\n",
              " '697Sq. Meter',\n",
              " '2830 - 2882',\n",
              " '655 - 742',\n",
              " '800 - 2660',\n",
              " '1408 - 1455',\n",
              " '4050 - 4075',\n",
              " '942 - 1117',\n",
              " '1750 - 2640',\n",
              " '142.61Sq. Meter',\n",
              " '1390 - 1600',\n",
              " '598 - 958',\n",
              " '1500Cents',\n",
              " '132Sq. Yards',\n",
              " '1010 - 1300',\n",
              " '2Acres',\n",
              " '3103 - 3890',\n",
              " '1450 - 1950',\n",
              " '1100Sq. Meter',\n",
              " '15Acres',\n",
              " '1450 - 1595',\n",
              " '763 - 805',\n",
              " '3307 - 3464',\n",
              " '1.26Acres',\n",
              " '620 - 934',\n",
              " '2462 - 2467',\n",
              " '540 - 740',\n",
              " '1618 - 1929',\n",
              " '3508 - 4201',\n",
              " '2249.81 - 4112.19',\n",
              " '4900 - 4940',\n",
              " '1610 - 1880',\n",
              " '755 - 770',\n",
              " '664 - 722',\n",
              " '151.11Sq. Yards',\n",
              " '700 - 900',\n",
              " '596 - 861',\n",
              " '1925 - 2680',\n",
              " '615 - 985',\n",
              " '1200 - 2400',\n",
              " '540 - 565',\n",
              " '1390 - 1600',\n",
              " '750 - 800',\n",
              " '1660 - 1805',\n",
              " '1365 - 1700',\n",
              " '1410 - 1710',\n",
              " '1079 - 1183',\n",
              " '2800 - 2870',\n",
              " '1230 - 1290',\n",
              " '943 - 1220',\n",
              " '2041 - 2090',\n",
              " '527 - 639',\n",
              " '645 - 936',\n",
              " '1Grounds',\n",
              " '1160 - 1315',\n",
              " '706 - 716',\n",
              " '2940Sq. Yards',\n",
              " '1791 - 4000',\n",
              " '45.06Sq. Meter',\n",
              " '799 - 803',\n",
              " '2470 - 2790',\n",
              " '783 - 943',\n",
              " '4500 - 5540',\n",
              " '1255 - 1375',\n",
              " '1430 - 1630',\n",
              " '610 - 615',\n",
              " '854 - 960',\n",
              " '2650 - 2990',\n",
              " '1.25Acres',\n",
              " '86.72Sq. Meter',\n",
              " '381 - 535',\n",
              " '1230 - 1490',\n",
              " '3630 - 3800',\n",
              " '660 - 780',\n",
              " '1618 - 1929',\n",
              " '1150 - 1194',\n",
              " '684 - 810',\n",
              " '1200 - 1800',\n",
              " '1510 - 1670',\n",
              " '1550 - 1590',\n",
              " '1235 - 1410',\n",
              " '3484 - 3550',\n",
              " '38Guntha',\n",
              " '929 - 1078',\n",
              " '2150 - 2225',\n",
              " '1520 - 1759',\n",
              " '2580 - 2591',\n",
              " '629 - 1026',\n",
              " '1215 - 1495',\n",
              " '6Acres',\n",
              " '1140 - 1250',\n",
              " '2400 - 2600',\n",
              " '1052 - 1322',\n",
              " '5666 - 5669',\n",
              " '620 - 934',\n",
              " '712 - 938',\n",
              " '1783 - 1878',\n",
              " '120Sq. Yards',\n",
              " '24Sq. Meter',\n",
              " '2528 - 3188',\n",
              " '650 - 760',\n",
              " '1400 - 1421',\n",
              " '4000 - 4450',\n",
              " '142.84Sq. Meter',\n",
              " '300Sq. Yards',\n",
              " '1115 - 1130',\n",
              " '2204 - 2362',\n",
              " '1437 - 1629',\n",
              " '850 - 1060',\n",
              " '1804 - 2273',\n",
              " '1200 - 1470',\n",
              " '1020 - 1130',\n",
              " '1133 - 1384',\n",
              " '2830 - 2882']"
            ]
          },
          "metadata": {},
          "execution_count": 12
        }
      ]
    },
    {
      "cell_type": "code",
      "source": [
        "len(df[\"total_sqft\"])"
      ],
      "metadata": {
        "colab": {
          "base_uri": "https://localhost:8080/"
        },
        "id": "vEyRJW_jXTay",
        "outputId": "ea6f1b3c-585d-4536-e3a1-50415c87a48d"
      },
      "execution_count": 13,
      "outputs": [
        {
          "output_type": "execute_result",
          "data": {
            "text/plain": [
              "13320"
            ]
          },
          "metadata": {},
          "execution_count": 13
        }
      ]
    },
    {
      "cell_type": "code",
      "source": [
        "len(problematic_values)"
      ],
      "metadata": {
        "colab": {
          "base_uri": "https://localhost:8080/"
        },
        "id": "YR_EzrK3Xh0U",
        "outputId": "ee5123a9-621c-4ddb-beaa-49726f21a323"
      },
      "execution_count": 14,
      "outputs": [
        {
          "output_type": "execute_result",
          "data": {
            "text/plain": [
              "247"
            ]
          },
          "metadata": {},
          "execution_count": 14
        }
      ]
    },
    {
      "cell_type": "code",
      "source": [
        "a='2470-2790'\n",
        "b=a.split(\"-\")\n",
        "(float(b[0]) + float(b[1]) )/2"
      ],
      "metadata": {
        "colab": {
          "base_uri": "https://localhost:8080/"
        },
        "id": "EAgfxjQEZsWX",
        "outputId": "f92e7d47-8dea-4751-f9e1-b716d5d8d9bd"
      },
      "execution_count": 15,
      "outputs": [
        {
          "output_type": "execute_result",
          "data": {
            "text/plain": [
              "2630.0"
            ]
          },
          "metadata": {},
          "execution_count": 15
        }
      ]
    },
    {
      "cell_type": "code",
      "source": [
        "for i in problematic_values:\n",
        "  try:\n",
        "    b=i.split(\"-\")\n",
        "    (float(b[0]) + float(b[1]) )/2\n",
        "  except:\n",
        "    print(i)"
      ],
      "metadata": {
        "colab": {
          "base_uri": "https://localhost:8080/"
        },
        "id": "v05vWglCaLCn",
        "outputId": "d872e77a-38b3-4f60-b252-8a8361762bb4"
      },
      "execution_count": 16,
      "outputs": [
        {
          "output_type": "stream",
          "name": "stdout",
          "text": [
            "34.46Sq. Meter\n",
            "4125Perch\n",
            "1000Sq. Meter\n",
            "1100Sq. Yards\n",
            "5.31Acres\n",
            "30Acres\n",
            "716Sq. Meter\n",
            "1500Sq. Meter\n",
            "142.61Sq. Meter\n",
            "1574Sq. Yards\n",
            "361.33Sq. Yards\n",
            "117Sq. Yards\n",
            "3040Sq. Meter\n",
            "500Sq. Yards\n",
            "167Sq. Meter\n",
            "315Sq. Yards\n",
            "3Cents\n",
            "188.89Sq. Yards\n",
            "204Sq. Meter\n",
            "45Sq. Yards\n",
            "133.3Sq. Yards\n",
            "78.03Sq. Meter\n",
            "122Sq. Yards\n",
            "84.53Sq. Meter\n",
            "2.09Acres\n",
            "24Guntha\n",
            "697Sq. Meter\n",
            "142.61Sq. Meter\n",
            "1500Cents\n",
            "132Sq. Yards\n",
            "2Acres\n",
            "1100Sq. Meter\n",
            "15Acres\n",
            "1.26Acres\n",
            "151.11Sq. Yards\n",
            "1Grounds\n",
            "2940Sq. Yards\n",
            "45.06Sq. Meter\n",
            "1.25Acres\n",
            "86.72Sq. Meter\n",
            "38Guntha\n",
            "6Acres\n",
            "120Sq. Yards\n",
            "24Sq. Meter\n",
            "142.84Sq. Meter\n",
            "300Sq. Yards\n"
          ]
        }
      ]
    },
    {
      "cell_type": "code",
      "source": [
        "a=\"34.46sq. Meter\"\n",
        "b=a.split(\"sq. M\")\n",
        "float(b[0]) * 10.7639"
      ],
      "metadata": {
        "colab": {
          "base_uri": "https://localhost:8080/"
        },
        "id": "hjyPOCiOa1nT",
        "outputId": "6ae5e0a0-7b73-4bc6-e7d1-d3e1643e334d"
      },
      "execution_count": 17,
      "outputs": [
        {
          "output_type": "execute_result",
          "data": {
            "text/plain": [
              "370.923994"
            ]
          },
          "metadata": {},
          "execution_count": 17
        }
      ]
    },
    {
      "cell_type": "code",
      "source": [
        "a=2\n",
        "a"
      ],
      "metadata": {
        "colab": {
          "base_uri": "https://localhost:8080/"
        },
        "id": "J9eyYWb-bZbn",
        "outputId": "c0f0f109-cb7a-4a92-e4e8-68e1066f5f3c"
      },
      "execution_count": 18,
      "outputs": [
        {
          "output_type": "execute_result",
          "data": {
            "text/plain": [
              "2"
            ]
          },
          "metadata": {},
          "execution_count": 18
        }
      ]
    },
    {
      "cell_type": "code",
      "source": [
        "len(df)"
      ],
      "metadata": {
        "colab": {
          "base_uri": "https://localhost:8080/"
        },
        "id": "gTyHCpu4bfHc",
        "outputId": "4acece35-bf69-4aca-914f-411a75f22b78"
      },
      "execution_count": 19,
      "outputs": [
        {
          "output_type": "execute_result",
          "data": {
            "text/plain": [
              "13320"
            ]
          },
          "metadata": {},
          "execution_count": 19
        }
      ]
    },
    {
      "cell_type": "code",
      "source": [
        "df[\"total_sqft\"].iloc[13319]"
      ],
      "metadata": {
        "colab": {
          "base_uri": "https://localhost:8080/",
          "height": 35
        },
        "id": "J-_NEtHibjqi",
        "outputId": "63e84b64-eefe-4d76-dbc6-28c757abc0b5"
      },
      "execution_count": 20,
      "outputs": [
        {
          "output_type": "execute_result",
          "data": {
            "text/plain": [
              "'550'"
            ],
            "application/vnd.google.colaboratory.intrinsic+json": {
              "type": "string"
            }
          },
          "metadata": {},
          "execution_count": 20
        }
      ]
    },
    {
      "cell_type": "code",
      "source": [
        "i = 0\n",
        ".iloc[0]\n",
        "\"22\"\n",
        "float(\"22\")\n",
        ".iloc[0] = float(\"22\")\n",
        "\"2435-2657\"\n",
        "\"2345 sq meter\""
      ],
      "metadata": {
        "colab": {
          "base_uri": "https://localhost:8080/",
          "height": 131
        },
        "id": "knKs9_F6cc0E",
        "outputId": "686e4116-a7f3-4d07-977e-ed88d2a29336"
      },
      "execution_count": 22,
      "outputs": [
        {
          "output_type": "error",
          "ename": "SyntaxError",
          "evalue": "ignored",
          "traceback": [
            "\u001b[0;36m  File \u001b[0;32m\"<ipython-input-22-de1457ac4011>\"\u001b[0;36m, line \u001b[0;32m2\u001b[0m\n\u001b[0;31m    .iloc[0]\u001b[0m\n\u001b[0m    ^\u001b[0m\n\u001b[0;31mSyntaxError\u001b[0m\u001b[0;31m:\u001b[0m invalid syntax\n"
          ]
        }
      ]
    },
    {
      "cell_type": "code",
      "source": [
        "df[\"total_sqft\"][:5]"
      ],
      "metadata": {
        "colab": {
          "base_uri": "https://localhost:8080/"
        },
        "id": "0FDpEp0VchjY",
        "outputId": "ba21100b-1303-4571-a506-7e923f34c74e"
      },
      "execution_count": 23,
      "outputs": [
        {
          "output_type": "execute_result",
          "data": {
            "text/plain": [
              "0    1056\n",
              "1    2600\n",
              "2    1440\n",
              "3    1521\n",
              "4    1200\n",
              "Name: total_sqft, dtype: object"
            ]
          },
          "metadata": {},
          "execution_count": 23
        }
      ]
    },
    {
      "cell_type": "code",
      "source": [
        "for i in range(len(df)):\n",
        "  try:\n",
        "    float(df[\"total_sqft\"].iloc[i])\n",
        "    df[\"total_sqft\"].iloc[i] = float(df[\"total_sqft\"].iloc[i])\n",
        "\n",
        "  except:\n",
        "    try:\n",
        "      b = df[\"total_sqft\"].iloc[i].split(\"-\")\n",
        "      df[\"total_sqft\"].iloc[i] = (float(b[0]) + float(b[1]) )/2\n",
        "    except:\n",
        "      df[\"total_sqft\"].iloc[i] = np.nan"
      ],
      "metadata": {
        "colab": {
          "base_uri": "https://localhost:8080/"
        },
        "id": "B0ug0qRXdMFg",
        "outputId": "7c860625-07c8-47d2-9430-1138377a5176"
      },
      "execution_count": 24,
      "outputs": [
        {
          "output_type": "stream",
          "name": "stderr",
          "text": [
            "<ipython-input-24-d054a79de65d>:4: SettingWithCopyWarning: \n",
            "A value is trying to be set on a copy of a slice from a DataFrame\n",
            "\n",
            "See the caveats in the documentation: https://pandas.pydata.org/pandas-docs/stable/user_guide/indexing.html#returning-a-view-versus-a-copy\n",
            "  df[\"total_sqft\"].iloc[i] = float(df[\"total_sqft\"].iloc[i])\n",
            "<ipython-input-24-d054a79de65d>:9: SettingWithCopyWarning: \n",
            "A value is trying to be set on a copy of a slice from a DataFrame\n",
            "\n",
            "See the caveats in the documentation: https://pandas.pydata.org/pandas-docs/stable/user_guide/indexing.html#returning-a-view-versus-a-copy\n",
            "  df[\"total_sqft\"].iloc[i] = (float(b[0]) + float(b[1]) )/2\n",
            "<ipython-input-24-d054a79de65d>:11: SettingWithCopyWarning: \n",
            "A value is trying to be set on a copy of a slice from a DataFrame\n",
            "\n",
            "See the caveats in the documentation: https://pandas.pydata.org/pandas-docs/stable/user_guide/indexing.html#returning-a-view-versus-a-copy\n",
            "  df[\"total_sqft\"].iloc[i] = np.nan\n"
          ]
        }
      ]
    },
    {
      "cell_type": "code",
      "source": [
        "df[\"total_sqft\"] = df[\"total_sqft\"].astype(\"float\")"
      ],
      "metadata": {
        "id": "emHtf5OudizR"
      },
      "execution_count": 25,
      "outputs": []
    },
    {
      "cell_type": "code",
      "source": [
        "df.info()"
      ],
      "metadata": {
        "colab": {
          "base_uri": "https://localhost:8080/"
        },
        "id": "Vktaa7yJdlT8",
        "outputId": "3fc28ddf-c1ee-4e2c-b0db-93b30fce7d65"
      },
      "execution_count": 26,
      "outputs": [
        {
          "output_type": "stream",
          "name": "stdout",
          "text": [
            "<class 'pandas.core.frame.DataFrame'>\n",
            "RangeIndex: 13320 entries, 0 to 13319\n",
            "Data columns (total 8 columns):\n",
            " #   Column        Non-Null Count  Dtype  \n",
            "---  ------        --------------  -----  \n",
            " 0   area_type     13320 non-null  object \n",
            " 1   availability  13320 non-null  object \n",
            " 2   location      13319 non-null  object \n",
            " 3   size          13304 non-null  object \n",
            " 4   total_sqft    13274 non-null  float64\n",
            " 5   bath          13247 non-null  float64\n",
            " 6   balcony       12711 non-null  float64\n",
            " 7   price         13320 non-null  float64\n",
            "dtypes: float64(4), object(4)\n",
            "memory usage: 832.6+ KB\n"
          ]
        }
      ]
    },
    {
      "cell_type": "code",
      "source": [
        "df[\"size\"].value_counts()"
      ],
      "metadata": {
        "colab": {
          "base_uri": "https://localhost:8080/"
        },
        "id": "iQA15gs8eKSA",
        "outputId": "e263aed4-8719-42c0-b861-8c3a1ee0b4cf"
      },
      "execution_count": 27,
      "outputs": [
        {
          "output_type": "execute_result",
          "data": {
            "text/plain": [
              "2 BHK         5199\n",
              "3 BHK         4310\n",
              "4 Bedroom      826\n",
              "4 BHK          591\n",
              "3 Bedroom      547\n",
              "1 BHK          538\n",
              "2 Bedroom      329\n",
              "5 Bedroom      297\n",
              "6 Bedroom      191\n",
              "1 Bedroom      105\n",
              "8 Bedroom       84\n",
              "7 Bedroom       83\n",
              "5 BHK           59\n",
              "9 Bedroom       46\n",
              "6 BHK           30\n",
              "7 BHK           17\n",
              "1 RK            13\n",
              "10 Bedroom      12\n",
              "9 BHK            8\n",
              "8 BHK            5\n",
              "11 BHK           2\n",
              "11 Bedroom       2\n",
              "10 BHK           2\n",
              "14 BHK           1\n",
              "13 BHK           1\n",
              "12 Bedroom       1\n",
              "27 BHK           1\n",
              "43 Bedroom       1\n",
              "16 BHK           1\n",
              "19 BHK           1\n",
              "18 Bedroom       1\n",
              "Name: size, dtype: int64"
            ]
          },
          "metadata": {},
          "execution_count": 27
        }
      ]
    },
    {
      "cell_type": "code",
      "source": [
        "df[\"size\"][df[\"size\"] == \"1 RK\"] = 0.5"
      ],
      "metadata": {
        "colab": {
          "base_uri": "https://localhost:8080/"
        },
        "id": "xRniyccheXnv",
        "outputId": "07290efe-ea1e-4e8e-982c-53aed41bb353"
      },
      "execution_count": 28,
      "outputs": [
        {
          "output_type": "stream",
          "name": "stderr",
          "text": [
            "<ipython-input-28-62ec67333f03>:1: SettingWithCopyWarning: \n",
            "A value is trying to be set on a copy of a slice from a DataFrame\n",
            "\n",
            "See the caveats in the documentation: https://pandas.pydata.org/pandas-docs/stable/user_guide/indexing.html#returning-a-view-versus-a-copy\n",
            "  df[\"size\"][df[\"size\"] == \"1 RK\"] = 0.5\n"
          ]
        }
      ]
    },
    {
      "cell_type": "code",
      "source": [
        "df[\"size\"][df[\"size\"] == 0.5]"
      ],
      "metadata": {
        "colab": {
          "base_uri": "https://localhost:8080/"
        },
        "id": "rR_M3d0HedBh",
        "outputId": "d47041a9-ee2f-48ae-f734-580643e44b8d"
      },
      "execution_count": 29,
      "outputs": [
        {
          "output_type": "execute_result",
          "data": {
            "text/plain": [
              "24       0.5\n",
              "782      0.5\n",
              "1363     0.5\n",
              "2486     0.5\n",
              "2557     0.5\n",
              "2788     0.5\n",
              "4876     0.5\n",
              "5079     0.5\n",
              "5285     0.5\n",
              "6586     0.5\n",
              "7638     0.5\n",
              "8385     0.5\n",
              "10576    0.5\n",
              "Name: size, dtype: object"
            ]
          },
          "metadata": {},
          "execution_count": 29
        }
      ]
    },
    {
      "cell_type": "code",
      "source": [
        "a=\"1 BHK\"\n",
        "b=a.split(\" \")\n",
        "float(b[0])"
      ],
      "metadata": {
        "colab": {
          "base_uri": "https://localhost:8080/"
        },
        "id": "TgRgAGUxfPLh",
        "outputId": "3918c504-6e6a-4a09-f50d-6ff8ed586ab7"
      },
      "execution_count": 30,
      "outputs": [
        {
          "output_type": "execute_result",
          "data": {
            "text/plain": [
              "1.0"
            ]
          },
          "metadata": {},
          "execution_count": 30
        }
      ]
    },
    {
      "cell_type": "code",
      "source": [
        "for i in range (len(df)):\n",
        "  try:\n",
        "    b = df[\"size\"].iloc[i].split(\" \")\n",
        "    df[\"size\"].iloc[i] = float(b[0])\n",
        "  except:\n",
        "    pass"
      ],
      "metadata": {
        "colab": {
          "base_uri": "https://localhost:8080/"
        },
        "id": "UWcBvf3TgicP",
        "outputId": "d2339471-4494-42d0-98d0-4e46a43c9481"
      },
      "execution_count": 31,
      "outputs": [
        {
          "output_type": "stream",
          "name": "stderr",
          "text": [
            "<ipython-input-31-06ac7481408d>:4: SettingWithCopyWarning: \n",
            "A value is trying to be set on a copy of a slice from a DataFrame\n",
            "\n",
            "See the caveats in the documentation: https://pandas.pydata.org/pandas-docs/stable/user_guide/indexing.html#returning-a-view-versus-a-copy\n",
            "  df[\"size\"].iloc[i] = float(b[0])\n"
          ]
        }
      ]
    },
    {
      "cell_type": "code",
      "source": [
        "df.info()"
      ],
      "metadata": {
        "colab": {
          "base_uri": "https://localhost:8080/"
        },
        "id": "nmdJ9NcqhY5f",
        "outputId": "1583277b-f45b-4c7e-a0cf-1c21847a50b1"
      },
      "execution_count": 32,
      "outputs": [
        {
          "output_type": "stream",
          "name": "stdout",
          "text": [
            "<class 'pandas.core.frame.DataFrame'>\n",
            "RangeIndex: 13320 entries, 0 to 13319\n",
            "Data columns (total 8 columns):\n",
            " #   Column        Non-Null Count  Dtype  \n",
            "---  ------        --------------  -----  \n",
            " 0   area_type     13320 non-null  object \n",
            " 1   availability  13320 non-null  object \n",
            " 2   location      13319 non-null  object \n",
            " 3   size          13304 non-null  object \n",
            " 4   total_sqft    13274 non-null  float64\n",
            " 5   bath          13247 non-null  float64\n",
            " 6   balcony       12711 non-null  float64\n",
            " 7   price         13320 non-null  float64\n",
            "dtypes: float64(4), object(4)\n",
            "memory usage: 832.6+ KB\n"
          ]
        }
      ]
    },
    {
      "cell_type": "code",
      "source": [
        "df[\"size\"]=df[\"size\"].astype(\"float\")"
      ],
      "metadata": {
        "id": "zKFkKbzQipPl"
      },
      "execution_count": 33,
      "outputs": []
    },
    {
      "cell_type": "code",
      "source": [
        "df.isnull().sum()"
      ],
      "metadata": {
        "colab": {
          "base_uri": "https://localhost:8080/"
        },
        "id": "NRSxc9J5i2yn",
        "outputId": "a97ab5fe-a383-479c-d853-9b9a2bf55c75"
      },
      "execution_count": 34,
      "outputs": [
        {
          "output_type": "execute_result",
          "data": {
            "text/plain": [
              "area_type         0\n",
              "availability      0\n",
              "location          1\n",
              "size             16\n",
              "total_sqft       46\n",
              "bath             73\n",
              "balcony         609\n",
              "price             0\n",
              "dtype: int64"
            ]
          },
          "metadata": {},
          "execution_count": 34
        }
      ]
    },
    {
      "cell_type": "code",
      "source": [
        "df[\"size\"].value_counts(dropna=False)"
      ],
      "metadata": {
        "colab": {
          "base_uri": "https://localhost:8080/"
        },
        "id": "4F_j6Ym6i_o4",
        "outputId": "68bd6d32-374c-45be-ceba-28d2d0029af9"
      },
      "execution_count": 35,
      "outputs": [
        {
          "output_type": "execute_result",
          "data": {
            "text/plain": [
              "2.0     5528\n",
              "3.0     4857\n",
              "4.0     1417\n",
              "1.0      643\n",
              "5.0      356\n",
              "6.0      221\n",
              "7.0      100\n",
              "8.0       89\n",
              "9.0       54\n",
              "NaN       16\n",
              "10.0      14\n",
              "0.5       13\n",
              "11.0       4\n",
              "27.0       1\n",
              "19.0       1\n",
              "16.0       1\n",
              "43.0       1\n",
              "14.0       1\n",
              "12.0       1\n",
              "13.0       1\n",
              "18.0       1\n",
              "Name: size, dtype: int64"
            ]
          },
          "metadata": {},
          "execution_count": 35
        }
      ]
    },
    {
      "cell_type": "code",
      "source": [
        "df[\"size\"].fillna(2.0,inplace=True)"
      ],
      "metadata": {
        "id": "Pej858KcjbIs"
      },
      "execution_count": 36,
      "outputs": []
    },
    {
      "cell_type": "code",
      "source": [
        "df[\"size\"].value_counts(dropna=False)"
      ],
      "metadata": {
        "colab": {
          "base_uri": "https://localhost:8080/"
        },
        "id": "8ZnXVdKnjn44",
        "outputId": "e502e46a-b308-4df3-938f-8e2b0cddb19a"
      },
      "execution_count": 37,
      "outputs": [
        {
          "output_type": "execute_result",
          "data": {
            "text/plain": [
              "2.0     5544\n",
              "3.0     4857\n",
              "4.0     1417\n",
              "1.0      643\n",
              "5.0      356\n",
              "6.0      221\n",
              "7.0      100\n",
              "8.0       89\n",
              "9.0       54\n",
              "10.0      14\n",
              "0.5       13\n",
              "11.0       4\n",
              "27.0       1\n",
              "19.0       1\n",
              "16.0       1\n",
              "43.0       1\n",
              "14.0       1\n",
              "12.0       1\n",
              "13.0       1\n",
              "18.0       1\n",
              "Name: size, dtype: int64"
            ]
          },
          "metadata": {},
          "execution_count": 37
        }
      ]
    },
    {
      "cell_type": "code",
      "source": [
        "df.dropna(subset=['total_sqft'],inplace=True)"
      ],
      "metadata": {
        "id": "NFWhwioUj3X6"
      },
      "execution_count": 38,
      "outputs": []
    },
    {
      "cell_type": "code",
      "source": [
        "df.isnull().sum()"
      ],
      "metadata": {
        "colab": {
          "base_uri": "https://localhost:8080/"
        },
        "id": "vFfoGwRmkGKF",
        "outputId": "fe4c7f0c-6995-4a9e-d43f-9386b18ca3d7"
      },
      "execution_count": 39,
      "outputs": [
        {
          "output_type": "execute_result",
          "data": {
            "text/plain": [
              "area_type         0\n",
              "availability      0\n",
              "location          1\n",
              "size              0\n",
              "total_sqft        0\n",
              "bath             73\n",
              "balcony         605\n",
              "price             0\n",
              "dtype: int64"
            ]
          },
          "metadata": {},
          "execution_count": 39
        }
      ]
    },
    {
      "cell_type": "code",
      "source": [
        "df[\"bath\"].value_counts(dropna=False)"
      ],
      "metadata": {
        "colab": {
          "base_uri": "https://localhost:8080/"
        },
        "id": "eSWPLnyklUtK",
        "outputId": "4e5b4b4d-fc0e-4456-b7d6-1e1b7b288c66"
      },
      "execution_count": 40,
      "outputs": [
        {
          "output_type": "execute_result",
          "data": {
            "text/plain": [
              "2.0     6893\n",
              "3.0     3275\n",
              "4.0     1222\n",
              "1.0      781\n",
              "5.0      521\n",
              "6.0      269\n",
              "7.0      102\n",
              "NaN       73\n",
              "8.0       64\n",
              "9.0       41\n",
              "10.0      13\n",
              "12.0       7\n",
              "13.0       3\n",
              "11.0       3\n",
              "16.0       2\n",
              "27.0       1\n",
              "40.0       1\n",
              "15.0       1\n",
              "14.0       1\n",
              "18.0       1\n",
              "Name: bath, dtype: int64"
            ]
          },
          "metadata": {},
          "execution_count": 40
        }
      ]
    },
    {
      "cell_type": "code",
      "source": [
        "df[\"bath\"].fillna(2.0,inplace=True)"
      ],
      "metadata": {
        "id": "YOC1A8cjlisz"
      },
      "execution_count": 41,
      "outputs": []
    },
    {
      "cell_type": "code",
      "source": [
        "balcony_clean = []\n",
        "for i in range(len(df)):\n",
        "  if np.isnan(df[\"balcony\"].iloc[i]):\n",
        "    if df[\"size\"].iloc[i] == 1:\n",
        "      balcony_clean.append(0)\n",
        "    elif df[\"size\"].iloc[i] == 2:\n",
        "      balcony_clean.append(1)\n",
        "    elif (df[\"size\"].iloc[i] ==3) | (df[\"size\"].iloc[i] ==4):\n",
        "      balcony_clean.append(2)\n",
        "    elif df[\"size\"].iloc[i] >= 5:\n",
        "      balcony_clean.append(3)\n",
        "  else:\n",
        "    balcony_clean.append(df[\"balcony\"].iloc[i])"
      ],
      "metadata": {
        "id": "Hj6_ik9xqPru"
      },
      "execution_count": 75,
      "outputs": []
    },
    {
      "cell_type": "code",
      "source": [
        "df.dropna(inplace = True)"
      ],
      "metadata": {
        "id": "6SW95Ly0rMiz"
      },
      "execution_count": 43,
      "outputs": []
    },
    {
      "cell_type": "code",
      "source": [
        "df[(df[\"bath\"]>=4.5)][df[(df[\"bath\"]>=4.5)][\"bath\"]>(df[(df[\"bath\"]>=4.5)][\"size\"]+1)]"
      ],
      "metadata": {
        "colab": {
          "base_uri": "https://localhost:8080/",
          "height": 423
        },
        "id": "ZMrhEwqMrRxI",
        "outputId": "56217847-7734-4c75-964d-a9f63368e974"
      },
      "execution_count": 44,
      "outputs": [
        {
          "output_type": "execute_result",
          "data": {
            "text/plain": [
              "                  area_type   availability           location  size  \\\n",
              "84     Super built-up  Area  Ready To Move          EPIP Zone   3.0   \n",
              "209              Plot  Area  Ready To Move    Padmanabhanagar   4.0   \n",
              "337    Super built-up  Area  Ready To Move     Thigalarapalya   4.0   \n",
              "490    Super built-up  Area  Ready To Move    Old Madras Road   5.0   \n",
              "524    Super built-up  Area         17-Dec             Jakkur   4.0   \n",
              "...                     ...            ...                ...   ...   \n",
              "13119            Plot  Area  Ready To Move  Sathya Sai Layout   4.0   \n",
              "13180  Super built-up  Area  Ready To Move      Sarakki Nagar   4.0   \n",
              "13208  Super built-up  Area  Ready To Move             Hebbal   4.0   \n",
              "13219            Plot  Area  Ready To Move            Laggere   7.0   \n",
              "13311            Plot  Area  Ready To Move   Ramamurthy Nagar   7.0   \n",
              "\n",
              "       total_sqft  bath  balcony  price  \n",
              "84         1499.0   5.0      2.0  102.0  \n",
              "209        1736.0   6.0      0.0  190.0  \n",
              "337        3122.0   6.0      2.0  230.0  \n",
              "490        4500.0   7.0      3.0  337.0  \n",
              "524        5230.0   6.0      1.0  465.0  \n",
              "...           ...   ...      ...    ...  \n",
              "13119      6688.0   6.0      1.0  700.0  \n",
              "13180      3124.0   6.0      3.0  349.0  \n",
              "13208      4000.0   6.0      1.0  370.0  \n",
              "13219      1590.0   9.0      3.0  132.0  \n",
              "13311      1500.0   9.0      2.0  250.0  \n",
              "\n",
              "[139 rows x 8 columns]"
            ],
            "text/html": [
              "\n",
              "  <div id=\"df-5545664e-2db7-452f-9912-86b43aade0f4\">\n",
              "    <div class=\"colab-df-container\">\n",
              "      <div>\n",
              "<style scoped>\n",
              "    .dataframe tbody tr th:only-of-type {\n",
              "        vertical-align: middle;\n",
              "    }\n",
              "\n",
              "    .dataframe tbody tr th {\n",
              "        vertical-align: top;\n",
              "    }\n",
              "\n",
              "    .dataframe thead th {\n",
              "        text-align: right;\n",
              "    }\n",
              "</style>\n",
              "<table border=\"1\" class=\"dataframe\">\n",
              "  <thead>\n",
              "    <tr style=\"text-align: right;\">\n",
              "      <th></th>\n",
              "      <th>area_type</th>\n",
              "      <th>availability</th>\n",
              "      <th>location</th>\n",
              "      <th>size</th>\n",
              "      <th>total_sqft</th>\n",
              "      <th>bath</th>\n",
              "      <th>balcony</th>\n",
              "      <th>price</th>\n",
              "    </tr>\n",
              "  </thead>\n",
              "  <tbody>\n",
              "    <tr>\n",
              "      <th>84</th>\n",
              "      <td>Super built-up  Area</td>\n",
              "      <td>Ready To Move</td>\n",
              "      <td>EPIP Zone</td>\n",
              "      <td>3.0</td>\n",
              "      <td>1499.0</td>\n",
              "      <td>5.0</td>\n",
              "      <td>2.0</td>\n",
              "      <td>102.0</td>\n",
              "    </tr>\n",
              "    <tr>\n",
              "      <th>209</th>\n",
              "      <td>Plot  Area</td>\n",
              "      <td>Ready To Move</td>\n",
              "      <td>Padmanabhanagar</td>\n",
              "      <td>4.0</td>\n",
              "      <td>1736.0</td>\n",
              "      <td>6.0</td>\n",
              "      <td>0.0</td>\n",
              "      <td>190.0</td>\n",
              "    </tr>\n",
              "    <tr>\n",
              "      <th>337</th>\n",
              "      <td>Super built-up  Area</td>\n",
              "      <td>Ready To Move</td>\n",
              "      <td>Thigalarapalya</td>\n",
              "      <td>4.0</td>\n",
              "      <td>3122.0</td>\n",
              "      <td>6.0</td>\n",
              "      <td>2.0</td>\n",
              "      <td>230.0</td>\n",
              "    </tr>\n",
              "    <tr>\n",
              "      <th>490</th>\n",
              "      <td>Super built-up  Area</td>\n",
              "      <td>Ready To Move</td>\n",
              "      <td>Old Madras Road</td>\n",
              "      <td>5.0</td>\n",
              "      <td>4500.0</td>\n",
              "      <td>7.0</td>\n",
              "      <td>3.0</td>\n",
              "      <td>337.0</td>\n",
              "    </tr>\n",
              "    <tr>\n",
              "      <th>524</th>\n",
              "      <td>Super built-up  Area</td>\n",
              "      <td>17-Dec</td>\n",
              "      <td>Jakkur</td>\n",
              "      <td>4.0</td>\n",
              "      <td>5230.0</td>\n",
              "      <td>6.0</td>\n",
              "      <td>1.0</td>\n",
              "      <td>465.0</td>\n",
              "    </tr>\n",
              "    <tr>\n",
              "      <th>...</th>\n",
              "      <td>...</td>\n",
              "      <td>...</td>\n",
              "      <td>...</td>\n",
              "      <td>...</td>\n",
              "      <td>...</td>\n",
              "      <td>...</td>\n",
              "      <td>...</td>\n",
              "      <td>...</td>\n",
              "    </tr>\n",
              "    <tr>\n",
              "      <th>13119</th>\n",
              "      <td>Plot  Area</td>\n",
              "      <td>Ready To Move</td>\n",
              "      <td>Sathya Sai Layout</td>\n",
              "      <td>4.0</td>\n",
              "      <td>6688.0</td>\n",
              "      <td>6.0</td>\n",
              "      <td>1.0</td>\n",
              "      <td>700.0</td>\n",
              "    </tr>\n",
              "    <tr>\n",
              "      <th>13180</th>\n",
              "      <td>Super built-up  Area</td>\n",
              "      <td>Ready To Move</td>\n",
              "      <td>Sarakki Nagar</td>\n",
              "      <td>4.0</td>\n",
              "      <td>3124.0</td>\n",
              "      <td>6.0</td>\n",
              "      <td>3.0</td>\n",
              "      <td>349.0</td>\n",
              "    </tr>\n",
              "    <tr>\n",
              "      <th>13208</th>\n",
              "      <td>Super built-up  Area</td>\n",
              "      <td>Ready To Move</td>\n",
              "      <td>Hebbal</td>\n",
              "      <td>4.0</td>\n",
              "      <td>4000.0</td>\n",
              "      <td>6.0</td>\n",
              "      <td>1.0</td>\n",
              "      <td>370.0</td>\n",
              "    </tr>\n",
              "    <tr>\n",
              "      <th>13219</th>\n",
              "      <td>Plot  Area</td>\n",
              "      <td>Ready To Move</td>\n",
              "      <td>Laggere</td>\n",
              "      <td>7.0</td>\n",
              "      <td>1590.0</td>\n",
              "      <td>9.0</td>\n",
              "      <td>3.0</td>\n",
              "      <td>132.0</td>\n",
              "    </tr>\n",
              "    <tr>\n",
              "      <th>13311</th>\n",
              "      <td>Plot  Area</td>\n",
              "      <td>Ready To Move</td>\n",
              "      <td>Ramamurthy Nagar</td>\n",
              "      <td>7.0</td>\n",
              "      <td>1500.0</td>\n",
              "      <td>9.0</td>\n",
              "      <td>2.0</td>\n",
              "      <td>250.0</td>\n",
              "    </tr>\n",
              "  </tbody>\n",
              "</table>\n",
              "<p>139 rows × 8 columns</p>\n",
              "</div>\n",
              "      <button class=\"colab-df-convert\" onclick=\"convertToInteractive('df-5545664e-2db7-452f-9912-86b43aade0f4')\"\n",
              "              title=\"Convert this dataframe to an interactive table.\"\n",
              "              style=\"display:none;\">\n",
              "        \n",
              "  <svg xmlns=\"http://www.w3.org/2000/svg\" height=\"24px\"viewBox=\"0 0 24 24\"\n",
              "       width=\"24px\">\n",
              "    <path d=\"M0 0h24v24H0V0z\" fill=\"none\"/>\n",
              "    <path d=\"M18.56 5.44l.94 2.06.94-2.06 2.06-.94-2.06-.94-.94-2.06-.94 2.06-2.06.94zm-11 1L8.5 8.5l.94-2.06 2.06-.94-2.06-.94L8.5 2.5l-.94 2.06-2.06.94zm10 10l.94 2.06.94-2.06 2.06-.94-2.06-.94-.94-2.06-.94 2.06-2.06.94z\"/><path d=\"M17.41 7.96l-1.37-1.37c-.4-.4-.92-.59-1.43-.59-.52 0-1.04.2-1.43.59L10.3 9.45l-7.72 7.72c-.78.78-.78 2.05 0 2.83L4 21.41c.39.39.9.59 1.41.59.51 0 1.02-.2 1.41-.59l7.78-7.78 2.81-2.81c.8-.78.8-2.07 0-2.86zM5.41 20L4 18.59l7.72-7.72 1.47 1.35L5.41 20z\"/>\n",
              "  </svg>\n",
              "      </button>\n",
              "      \n",
              "  <style>\n",
              "    .colab-df-container {\n",
              "      display:flex;\n",
              "      flex-wrap:wrap;\n",
              "      gap: 12px;\n",
              "    }\n",
              "\n",
              "    .colab-df-convert {\n",
              "      background-color: #E8F0FE;\n",
              "      border: none;\n",
              "      border-radius: 50%;\n",
              "      cursor: pointer;\n",
              "      display: none;\n",
              "      fill: #1967D2;\n",
              "      height: 32px;\n",
              "      padding: 0 0 0 0;\n",
              "      width: 32px;\n",
              "    }\n",
              "\n",
              "    .colab-df-convert:hover {\n",
              "      background-color: #E2EBFA;\n",
              "      box-shadow: 0px 1px 2px rgba(60, 64, 67, 0.3), 0px 1px 3px 1px rgba(60, 64, 67, 0.15);\n",
              "      fill: #174EA6;\n",
              "    }\n",
              "\n",
              "    [theme=dark] .colab-df-convert {\n",
              "      background-color: #3B4455;\n",
              "      fill: #D2E3FC;\n",
              "    }\n",
              "\n",
              "    [theme=dark] .colab-df-convert:hover {\n",
              "      background-color: #434B5C;\n",
              "      box-shadow: 0px 1px 3px 1px rgba(0, 0, 0, 0.15);\n",
              "      filter: drop-shadow(0px 1px 2px rgba(0, 0, 0, 0.3));\n",
              "      fill: #FFFFFF;\n",
              "    }\n",
              "  </style>\n",
              "\n",
              "      <script>\n",
              "        const buttonEl =\n",
              "          document.querySelector('#df-5545664e-2db7-452f-9912-86b43aade0f4 button.colab-df-convert');\n",
              "        buttonEl.style.display =\n",
              "          google.colab.kernel.accessAllowed ? 'block' : 'none';\n",
              "\n",
              "        async function convertToInteractive(key) {\n",
              "          const element = document.querySelector('#df-5545664e-2db7-452f-9912-86b43aade0f4');\n",
              "          const dataTable =\n",
              "            await google.colab.kernel.invokeFunction('convertToInteractive',\n",
              "                                                     [key], {});\n",
              "          if (!dataTable) return;\n",
              "\n",
              "          const docLinkHtml = 'Like what you see? Visit the ' +\n",
              "            '<a target=\"_blank\" href=https://colab.research.google.com/notebooks/data_table.ipynb>data table notebook</a>'\n",
              "            + ' to learn more about interactive tables.';\n",
              "          element.innerHTML = '';\n",
              "          dataTable['output_type'] = 'display_data';\n",
              "          await google.colab.output.renderOutput(dataTable, element);\n",
              "          const docLink = document.createElement('div');\n",
              "          docLink.innerHTML = docLinkHtml;\n",
              "          element.appendChild(docLink);\n",
              "        }\n",
              "      </script>\n",
              "    </div>\n",
              "  </div>\n",
              "  "
            ]
          },
          "metadata": {},
          "execution_count": 44
        }
      ]
    },
    {
      "cell_type": "code",
      "source": [
        "bath_index = df[(df[\"bath\"] >= 4.5)][df[(df[\"bath\"] >= 4.5)][\"bath\"] > (df[(df[\"bath\"] >= 4.5)][\"size\"] + 1)].index"
      ],
      "metadata": {
        "id": "heJLUSa1voix"
      },
      "execution_count": 46,
      "outputs": []
    },
    {
      "cell_type": "code",
      "source": [
        "df.shape"
      ],
      "metadata": {
        "colab": {
          "base_uri": "https://localhost:8080/"
        },
        "id": "TKDn1EjQvsMm",
        "outputId": "a914bcad-72ee-44e2-9a04-023d7fa06660"
      },
      "execution_count": 47,
      "outputs": [
        {
          "output_type": "execute_result",
          "data": {
            "text/plain": [
              "(12668, 8)"
            ]
          },
          "metadata": {},
          "execution_count": 47
        }
      ]
    },
    {
      "cell_type": "code",
      "source": [
        "df.drop(index=bath_index,inplace=True)"
      ],
      "metadata": {
        "id": "nRwFdFtlvv3v"
      },
      "execution_count": 48,
      "outputs": []
    },
    {
      "cell_type": "code",
      "source": [
        "df.shape"
      ],
      "metadata": {
        "colab": {
          "base_uri": "https://localhost:8080/"
        },
        "id": "CxuPPoOGv7ta",
        "outputId": "601e8d55-a401-4788-fb3c-18bd73fe0b87"
      },
      "execution_count": 51,
      "outputs": [
        {
          "output_type": "execute_result",
          "data": {
            "text/plain": [
              "(12529, 8)"
            ]
          },
          "metadata": {},
          "execution_count": 51
        }
      ]
    },
    {
      "cell_type": "code",
      "source": [
        "df.info()"
      ],
      "metadata": {
        "colab": {
          "base_uri": "https://localhost:8080/"
        },
        "id": "ikWwchdjwKQA",
        "outputId": "477b5034-c5e1-410a-ae8b-e095b7e4f452"
      },
      "execution_count": 52,
      "outputs": [
        {
          "output_type": "stream",
          "name": "stdout",
          "text": [
            "<class 'pandas.core.frame.DataFrame'>\n",
            "Int64Index: 12529 entries, 0 to 13319\n",
            "Data columns (total 8 columns):\n",
            " #   Column        Non-Null Count  Dtype  \n",
            "---  ------        --------------  -----  \n",
            " 0   area_type     12529 non-null  object \n",
            " 1   availability  12529 non-null  object \n",
            " 2   location      12529 non-null  object \n",
            " 3   size          12529 non-null  float64\n",
            " 4   total_sqft    12529 non-null  float64\n",
            " 5   bath          12529 non-null  float64\n",
            " 6   balcony       12529 non-null  float64\n",
            " 7   price         12529 non-null  float64\n",
            "dtypes: float64(5), object(3)\n",
            "memory usage: 880.9+ KB\n"
          ]
        }
      ]
    },
    {
      "cell_type": "code",
      "source": [
        "sns.boxplot(df[\"total_sqft\"])"
      ],
      "metadata": {
        "colab": {
          "base_uri": "https://localhost:8080/",
          "height": 447
        },
        "id": "VwaRU0S_wOs8",
        "outputId": "b68ebc83-1d64-4daf-e909-0c8892e36e5e"
      },
      "execution_count": 53,
      "outputs": [
        {
          "output_type": "execute_result",
          "data": {
            "text/plain": [
              "<Axes: >"
            ]
          },
          "metadata": {},
          "execution_count": 53
        },
        {
          "output_type": "display_data",
          "data": {
            "text/plain": [
              "<Figure size 640x480 with 1 Axes>"
            ],
            "image/png": "[encoded data removed]"
          },
          "metadata": {}
        }
      ]
    },
    {
      "cell_type": "code",
      "source": [
        "sns.displot(df[\"total_sqft\"],kde=True)"
      ],
      "metadata": {
        "colab": {
          "base_uri": "https://localhost:8080/",
          "height": 523
        },
        "id": "lZI0tqtuwaN_",
        "outputId": "a64617b9-a086-4494-c4fd-8f7f0987b812"
      },
      "execution_count": 54,
      "outputs": [
        {
          "output_type": "execute_result",
          "data": {
            "text/plain": [
              "<seaborn.axisgrid.FacetGrid at 0x7f39f3725490>"
            ]
          },
          "metadata": {},
          "execution_count": 54
        },
        {
          "output_type": "display_data",
          "data": {
            "text/plain": [
              "<Figure size 500x500 with 1 Axes>"
            ],
            "image/png": "[encoded data removed]"
          },
          "metadata": {}
        }
      ]
    },
    {
      "cell_type": "code",
      "source": [
        "q1 = df[\"total_sqft\"].quantile(0.25)\n",
        "q3 = df[\"total_sqft\"].quantile(0.75)\n",
        "iqr = q3 - q1"
      ],
      "metadata": {
        "id": "tkcjSMVFwnSy"
      },
      "execution_count": 55,
      "outputs": []
    },
    {
      "cell_type": "code",
      "source": [
        "sns.histplot(df[(df[\"total_sqft\"] <= (q3 + 1.5*iqr)) & (df[\"total_sqft\"] >= (q1 - 1.5*iqr))][\"total_sqft\"], kde = True)"
      ],
      "metadata": {
        "colab": {
          "base_uri": "https://localhost:8080/",
          "height": 467
        },
        "id": "6QHASl9Fw2Qa",
        "outputId": "c23b1d24-91d8-4f20-fb67-632dd703a753"
      },
      "execution_count": 56,
      "outputs": [
        {
          "output_type": "execute_result",
          "data": {
            "text/plain": [
              "<Axes: xlabel='total_sqft', ylabel='Count'>"
            ]
          },
          "metadata": {},
          "execution_count": 56
        },
        {
          "output_type": "display_data",
          "data": {
            "text/plain": [
              "<Figure size 640x480 with 1 Axes>"
            ],
            "image/png": "[encoded data removed]"
          },
          "metadata": {}
        }
      ]
    },
    {
      "cell_type": "code",
      "source": [
        "df = df[(df[\"total_sqft\"] >= (q1 - 1.5*iqr)) & (df[\"total_sqft\"] <= (q3 + 1.5*iqr))]\n",
        "df.shape"
      ],
      "metadata": {
        "colab": {
          "base_uri": "https://localhost:8080/"
        },
        "id": "EYTNh2kDza-7",
        "outputId": "5c2797c8-52a5-44cb-f007-3eeb130c9180"
      },
      "execution_count": 58,
      "outputs": [
        {
          "output_type": "execute_result",
          "data": {
            "text/plain": [
              "(11529, 8)"
            ]
          },
          "metadata": {},
          "execution_count": 58
        }
      ]
    },
    {
      "cell_type": "code",
      "source": [
        "temp_df = df[(df[\"total_sqft\"] > (q3 + 1.5*iqr)) | (df[\"total_sqft\"] < (q1 - 1.5*iqr))].copy()"
      ],
      "metadata": {
        "id": "uSDX4qvJzg0C"
      },
      "execution_count": 68,
      "outputs": []
    },
    {
      "cell_type": "code",
      "source": [
        "temp_df"
      ],
      "metadata": {
        "colab": {
          "base_uri": "https://localhost:8080/",
          "height": 49
        },
        "id": "zDxdWCAR0AKT",
        "outputId": "a847b877-75e0-4e94-dc98-42dc48f478f0"
      },
      "execution_count": 69,
      "outputs": [
        {
          "output_type": "execute_result",
          "data": {
            "text/plain": [
              "Empty DataFrame\n",
              "Columns: [area_type, availability, location, size, total_sqft, bath, balcony, price]\n",
              "Index: []"
            ],
            "text/html": [
              "\n",
              "  <div id=\"df-ed43fd76-472b-4ff3-ad39-c727e166c0a5\">\n",
              "    <div class=\"colab-df-container\">\n",
              "      <div>\n",
              "<style scoped>\n",
              "    .dataframe tbody tr th:only-of-type {\n",
              "        vertical-align: middle;\n",
              "    }\n",
              "\n",
              "    .dataframe tbody tr th {\n",
              "        vertical-align: top;\n",
              "    }\n",
              "\n",
              "    .dataframe thead th {\n",
              "        text-align: right;\n",
              "    }\n",
              "</style>\n",
              "<table border=\"1\" class=\"dataframe\">\n",
              "  <thead>\n",
              "    <tr style=\"text-align: right;\">\n",
              "      <th></th>\n",
              "      <th>area_type</th>\n",
              "      <th>availability</th>\n",
              "      <th>location</th>\n",
              "      <th>size</th>\n",
              "      <th>total_sqft</th>\n",
              "      <th>bath</th>\n",
              "      <th>balcony</th>\n",
              "      <th>price</th>\n",
              "    </tr>\n",
              "  </thead>\n",
              "  <tbody>\n",
              "  </tbody>\n",
              "</table>\n",
              "</div>\n",
              "      <button class=\"colab-df-convert\" onclick=\"convertToInteractive('df-ed43fd76-472b-4ff3-ad39-c727e166c0a5')\"\n",
              "              title=\"Convert this dataframe to an interactive table.\"\n",
              "              style=\"display:none;\">\n",
              "        \n",
              "  <svg xmlns=\"http://www.w3.org/2000/svg\" height=\"24px\"viewBox=\"0 0 24 24\"\n",
              "       width=\"24px\">\n",
              "    <path d=\"M0 0h24v24H0V0z\" fill=\"none\"/>\n",
              "    <path d=\"M18.56 5.44l.94 2.06.94-2.06 2.06-.94-2.06-.94-.94-2.06-.94 2.06-2.06.94zm-11 1L8.5 8.5l.94-2.06 2.06-.94-2.06-.94L8.5 2.5l-.94 2.06-2.06.94zm10 10l.94 2.06.94-2.06 2.06-.94-2.06-.94-.94-2.06-.94 2.06-2.06.94z\"/><path d=\"M17.41 7.96l-1.37-1.37c-.4-.4-.92-.59-1.43-.59-.52 0-1.04.2-1.43.59L10.3 9.45l-7.72 7.72c-.78.78-.78 2.05 0 2.83L4 21.41c.39.39.9.59 1.41.59.51 0 1.02-.2 1.41-.59l7.78-7.78 2.81-2.81c.8-.78.8-2.07 0-2.86zM5.41 20L4 18.59l7.72-7.72 1.47 1.35L5.41 20z\"/>\n",
              "  </svg>\n",
              "      </button>\n",
              "      \n",
              "  <style>\n",
              "    .colab-df-container {\n",
              "      display:flex;\n",
              "      flex-wrap:wrap;\n",
              "      gap: 12px;\n",
              "    }\n",
              "\n",
              "    .colab-df-convert {\n",
              "      background-color: #E8F0FE;\n",
              "      border: none;\n",
              "      border-radius: 50%;\n",
              "      cursor: pointer;\n",
              "      display: none;\n",
              "      fill: #1967D2;\n",
              "      height: 32px;\n",
              "      padding: 0 0 0 0;\n",
              "      width: 32px;\n",
              "    }\n",
              "\n",
              "    .colab-df-convert:hover {\n",
              "      background-color: #E2EBFA;\n",
              "      box-shadow: 0px 1px 2px rgba(60, 64, 67, 0.3), 0px 1px 3px 1px rgba(60, 64, 67, 0.15);\n",
              "      fill: #174EA6;\n",
              "    }\n",
              "\n",
              "    [theme=dark] .colab-df-convert {\n",
              "      background-color: #3B4455;\n",
              "      fill: #D2E3FC;\n",
              "    }\n",
              "\n",
              "    [theme=dark] .colab-df-convert:hover {\n",
              "      background-color: #434B5C;\n",
              "      box-shadow: 0px 1px 3px 1px rgba(0, 0, 0, 0.15);\n",
              "      filter: drop-shadow(0px 1px 2px rgba(0, 0, 0, 0.3));\n",
              "      fill: #FFFFFF;\n",
              "    }\n",
              "  </style>\n",
              "\n",
              "      <script>\n",
              "        const buttonEl =\n",
              "          document.querySelector('#df-ed43fd76-472b-4ff3-ad39-c727e166c0a5 button.colab-df-convert');\n",
              "        buttonEl.style.display =\n",
              "          google.colab.kernel.accessAllowed ? 'block' : 'none';\n",
              "\n",
              "        async function convertToInteractive(key) {\n",
              "          const element = document.querySelector('#df-ed43fd76-472b-4ff3-ad39-c727e166c0a5');\n",
              "          const dataTable =\n",
              "            await google.colab.kernel.invokeFunction('convertToInteractive',\n",
              "                                                     [key], {});\n",
              "          if (!dataTable) return;\n",
              "\n",
              "          const docLinkHtml = 'Like what you see? Visit the ' +\n",
              "            '<a target=\"_blank\" href=https://colab.research.google.com/notebooks/data_table.ipynb>data table notebook</a>'\n",
              "            + ' to learn more about interactive tables.';\n",
              "          element.innerHTML = '';\n",
              "          dataTable['output_type'] = 'display_data';\n",
              "          await google.colab.output.renderOutput(dataTable, element);\n",
              "          const docLink = document.createElement('div');\n",
              "          docLink.innerHTML = docLinkHtml;\n",
              "          element.appendChild(docLink);\n",
              "        }\n",
              "      </script>\n",
              "    </div>\n",
              "  </div>\n",
              "  "
            ]
          },
          "metadata": {},
          "execution_count": 69
        }
      ]
    },
    {
      "cell_type": "code",
      "source": [
        "temp_df[\"size\"].unique()"
      ],
      "metadata": {
        "colab": {
          "base_uri": "https://localhost:8080/"
        },
        "id": "VIbek2XK0SiG",
        "outputId": "7fc2df00-ddbd-4293-a1fe-965728dea3aa"
      },
      "execution_count": 70,
      "outputs": [
        {
          "output_type": "execute_result",
          "data": {
            "text/plain": [
              "array([], dtype=float64)"
            ]
          },
          "metadata": {},
          "execution_count": 70
        }
      ]
    },
    {
      "cell_type": "code",
      "source": [
        "temp_df[temp_df[\"size\"] == 1][\"total_sqft\"].median()"
      ],
      "metadata": {
        "colab": {
          "base_uri": "https://localhost:8080/"
        },
        "id": "m1-vo3Ep5ID_",
        "outputId": "940eeebf-2033-4827-ef91-ccd03593cba3"
      },
      "execution_count": 71,
      "outputs": [
        {
          "output_type": "execute_result",
          "data": {
            "text/plain": [
              "nan"
            ]
          },
          "metadata": {},
          "execution_count": 71
        }
      ]
    }
  ]
}